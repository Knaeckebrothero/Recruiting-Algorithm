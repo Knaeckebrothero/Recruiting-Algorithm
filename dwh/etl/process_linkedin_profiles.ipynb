{
 "cells": [
  {
   "cell_type": "code",
   "execution_count": null,
   "id": "52496751",
   "metadata": {},
   "outputs": [],
   "source": [
    "# Example experience from a LinkedIn profile\n",
    "experience = {\n",
    "    \"company\": \"Old Dominion University\",\n",
    "    \"company_linkedin_profile_url\": \"https://www.linkedin.com/company/old-dominion-university\",\n",
    "    \"title\": \"Teaching Assistant\",\n",
    "    \"description\": \"Key responsibilities: \\n\\n1. Assisting students in executing experimental laboratory works for Electronic Circuit Analysis. \\n2. Administering exams, grading scripts and conducting problem solving sessions for Circuit Analysis I, Linear System Analysis, Electronic Circuit\",\n",
    "    \"location\": \"Norfolk, VA, USA.\",\n",
    "    \"logo_url\": \"https://media-exp1.licdn.com/dms/image/C4E0BAQG5Y7rGx9ZScQ/company-logo_100_100/0/1532523823768?e=1655942400&v=beta&t=sx3tGOZ4ApDAt8nOhp6purIOxuUNRyD1MP31VF-B0rA\"\n",
    "  }\n",
    "\n",
    "# Example education from a LinkedIn profile\n",
    "education = {\n",
    "    \"field_of_study\": \"Electrical and Computer Engineering\",\n",
    "    \"degree_name\": \"Doctor of Philosophy - PhD\",\n",
    "    \"school\": \"Old Dominion University\",\n",
    "    \"school_linkedin_profile_url\": \"https://www.linkedin.com/school/old-dominion-university/\",\n",
    "    \"description\": \"PhD Dissertation topic:\\nInterface engineering of highly efficient organic-inorganic hybrid perovskite solar cells.\",\n",
    "    \"logo_url\": \"https://media-exp1.licdn.com/dms/image/C4E0BAQG5Y7rGx9ZScQ/company-logo_100_100/0/1532523823768?e=1655942400&v=beta&t=sx3tGOZ4ApDAt8nOhp6purIOxuUNRyD1MP31VF-B0rA\"\n",
    "  }"
   ]
  },
  {
   "cell_type": "code",
   "execution_count": null,
   "id": "081db211",
   "metadata": {},
   "outputs": [],
   "source": []
  },
  {
   "cell_type": "code",
   "execution_count": null,
   "id": "7424f4fce87d573d",
   "metadata": {},
   "outputs": [],
   "source": [
    "# Generate an example from a template\n",
    "def openai_tag(prompt: str, template: dict):\n",
    "    # Set system prompt\n",
    "    messages = [{\n",
    "        \"role\": \"system\",\n",
    "        \"content\": \"You are a helpful assistant that specializes in generating test data in JSON format. The user will provide you with a JSON structure and you generate a complete example JSON with realistic sounding values.\"}, {\n",
    "        \"role\": \"user\",\n",
    "        \"content\": \"Context: \" + context + \"\\n\\nTemplate: \" + json.dumps(template)}]\n",
    "\n",
    "    # Generate a completion\n",
    "    example_completion = client.chat.completions.create(\n",
    "        model=\"gpt-4o\", \n",
    "        response_format={ \"type\": \"json_object\" },\n",
    "        messages=messages\n",
    "    )\n",
    "    \n",
    "    # Get the generated example\n",
    "    result_string = example_completion.choices[0].message.content\n",
    "    \n",
    "    # Convert the completion to a dictionary\n",
    "    example_dict = json.loads(result_string)\n",
    "    \n",
    "    # Return the generated example\n",
    "    return example_dict"
   ]
  },
  {
   "cell_type": "code",
   "execution_count": null,
   "id": "805ce994668d6ecb",
   "metadata": {},
   "outputs": [],
   "source": [
    "import os\n",
    "import dotenv\n",
    "import json\n",
    "from openai import OpenAI\n",
    "\n",
    "\n",
    "# Load the environment variables\n",
    "dotenv.load_dotenv()\n",
    "os.environ['OPENAI_API_KEY'] = os.getenv('OPENAI_API_KEY')\n",
    "\n",
    "# Create an instance of the OpenAI class\n",
    "client = OpenAI()\n",
    "\n",
    "template_context = \"Please generate an example for a german Bank.\"\n",
    "\n",
    "# Define a template for generating an example\n",
    "template_dict = {\n",
    "    \"Bankname\": \"Name as String\",\n",
    "    \"Straße/Haus-Nr\": \"Street and House Number as String\",\n",
    "    \"PLZ/Ort\": \"Postal Code and City as String\",\n",
    "    \"Ansprechpartner\": \"Contact Person as String\",\n",
    "    \"Telefonnummer\": \"Phone Number as String\",\n",
    "    \"E-Mail\": \"Email as String\"\n",
    "}\n",
    "\n",
    "result = generate_example_from_template(template_context, template_dict)\n",
    "\n",
    "print(result['Bankname'])\n",
    "print(result['Straße/Haus-Nr'])\n",
    "print(result['PLZ/Ort'])\n",
    "print(result['Ansprechpartner'])\n",
    "print(result['Telefonnummer'])\n",
    "print(result['E-Mail'])"
   ]
  },
  {
   "cell_type": "code",
   "execution_count": 1,
   "id": "69bad525",
   "metadata": {},
   "outputs": [
    {
     "name": "stdout",
     "output_type": "stream",
     "text": [
      "True\n"
     ]
    }
   ],
   "source": [
    "\"\"\"\n",
    "https://visualstudio.microsoft.com/downloads/\n",
    "https://developer.nvidia.com/cuda-downloads?target_os=Windows&target_arch=x86_64&target_version=11&target_type=exe_local\n",
    "https://pytorch.org/get-started/locally/\n",
    "\"\"\"\n",
    "import torch\n",
    "\n",
    "\n",
    "print(torch.cuda.is_available())"
   ]
  },
  {
   "cell_type": "code",
   "execution_count": null,
   "id": "dc971996842e3c41",
   "metadata": {},
   "outputs": [],
   "source": [
    "\"\"\"\n",
    "I am using this model because it scored the highest on the hf leaderboard with hella swag of 90.\n",
    "https://huggingface.co/SF-Foundation/TextBase-7B-v0.1\n",
    "\n",
    "It's a instruction model based on the mistral, might also try llama3 but had to request access first.\n",
    "\"\"\"\n",
    "# Use a pipeline as a high-level helper\n",
    "from transformers import pipeline\n",
    "\n",
    "pipe = pipeline(\"text-generation\", model=\"SF-Foundation/TextBase-7B-v0.1\")\n",
    "\n",
    "# Load model directly\n",
    "from transformers import AutoTokenizer, AutoModelForCausalLM\n",
    "\n",
    "tokenizer = AutoTokenizer.from_pretrained(\"SF-Foundation/TextBase-7B-v0.1\")\n",
    "model = AutoModelForCausalLM.from_pretrained(\"SF-Foundation/TextBase-7B-v0.1\")"
   ]
  },
  {
   "cell_type": "code",
   "execution_count": null,
   "id": "4da3ff184d972bad",
   "metadata": {
    "ExecuteTime": {
     "end_time": "2024-06-08T17:20:01.188771Z",
     "start_time": "2024-06-08T17:19:45.257336Z"
    }
   },
   "outputs": [],
   "source": [
    "from transformers import AutoTokenizer, AutoModelForCausalLM\n",
    "\n",
    "\n",
    "def generate_output(input_text):\n",
    "    # Load the tokenizer and model\n",
    "    tokenizer = AutoTokenizer.from_pretrained(\"/TextBase-7B-v0.1\")\n",
    "    model = AutoModelForCausalLM.from_pretrained(\"/TextBase-7B-v0.1\")\n",
    "\n",
    "    # Tokenize the input text\n",
    "    input_ids = tokenizer.encode(input_text, return_tensors=\"pt\")\n",
    "\n",
    "    # Generate the output\n",
    "    output = model.generate(\n",
    "        input_ids,\n",
    "        max_length=100,  # Adjust the maximum length of the generated output as needed\n",
    "        num_return_sequences=1,  # Number of output sequences to generate\n",
    "        temperature=0.7,  # Adjust the temperature for controlling the randomness of the output\n",
    "    )\n",
    "\n",
    "    # Decode the generated output\n",
    "    generated_text = tokenizer.decode(output[0], skip_special_tokens=True)\n",
    "\n",
    "    return generated_text"
   ]
  },
  {
   "cell_type": "code",
   "execution_count": null,
   "id": "b7a16f00a108c24c",
   "metadata": {
    "ExecuteTime": {
     "end_time": "2024-06-08T17:22:07.019836Z",
     "start_time": "2024-06-08T17:20:04.185280Z"
    }
   },
   "outputs": [],
   "source": [
    "input_text = \"Here is an example LinkedIn profile entry:\\n...\"\n",
    "output = generate_output(input_text)\n",
    "print(\"Generated output:\")\n",
    "print(output)"
   ]
  },
  {
   "cell_type": "code",
   "execution_count": null,
   "id": "31297c494c1c14a0",
   "metadata": {
    "ExecuteTime": {
     "end_time": "2024-06-09T18:11:04.704598Z",
     "start_time": "2024-06-09T18:11:01.569630Z"
    }
   },
   "outputs": [],
   "source": [
    "import os\n",
    "import torch\n",
    "import dotenv\n",
    "from transformers import AutoTokenizer, AutoModelForCausalLM\n",
    "\n",
    "# Load the environment variables\n",
    "dotenv.load_dotenv()\n",
    "model_path = os.getenv(\"MODEL_PATH\")\n",
    "\n",
    "def generate_output(input_text):\n",
    "    # Load the tokenizer and model\n",
    "    tokenizer = AutoTokenizer.from_pretrained(model_path)\n",
    "    model = AutoModelForCausalLM.from_pretrained(model_path)\n",
    "\n",
    "    # Move the model to the GPU\n",
    "    device = torch.device(\"cuda\" if torch.cuda.is_available() else \"cpu\")\n",
    "    model.to(device)\n",
    "\n",
    "    # Tokenize the input text\n",
    "    input_ids = tokenizer.encode(input_text, return_tensors=\"pt\").to(device)\n",
    "\n",
    "    # Generate the output\n",
    "    output = model.generate(\n",
    "        input_ids,\n",
    "        max_length=300,\n",
    "        temperature=0.7,\n",
    "    )\n",
    "\n",
    "    # Decode the generated output\n",
    "    generated_text = tokenizer.decode(output[0], skip_special_tokens=True)\n",
    "\n",
    "    return generated_text\n",
    "\n",
    "def generate_output_stream(input_text):\n",
    "    # Load the tokenizer and model\n",
    "    tokenizer = AutoTokenizer.from_pretrained(model_path)\n",
    "    model = AutoModelForCausalLM.from_pretrained(model_path)\n",
    "\n",
    "    # Move the model to the GPU\n",
    "    device = torch.device(\"cuda\" if torch.cuda.is_available() else \"cpu\")\n",
    "    model.to(device)\n",
    "\n",
    "    # Tokenize the input text\n",
    "    input_ids = tokenizer.encode(input_text, return_tensors=\"pt\").to(device)\n",
    "\n",
    "    # Generate the output token by token\n",
    "    for output in model.generate(\n",
    "        input_ids,\n",
    "        max_length=300,\n",
    "        temperature=0.7,\n",
    "        num_return_sequences=1,\n",
    "        pad_token_id=tokenizer.eos_token_id,\n",
    "        do_sample=True,\n",
    "        output_scores=True,\n",
    "        return_dict_in_generate=True,\n",
    "        num_beams=1,\n",
    "    ):\n",
    "        # Decode the generated token\n",
    "        token = tokenizer.decode(output.sequences[:, -1], skip_special_tokens=True)\n",
    "\n",
    "        # Yield the decoded token\n",
    "        yield token\n",
    "\n",
    "    # Finalize the generated text\n",
    "    generated_text = tokenizer.decode(output.sequences[0], skip_special_tokens=True)\n",
    "    yield generated_text"
   ]
  },
  {
   "cell_type": "code",
   "execution_count": null,
   "id": "f011d517d3909718",
   "metadata": {},
   "outputs": [],
   "source": [
    "input_text = \"This is a test, if the model is working correctly.\"\n",
    "output = generate_output(input_text)\n",
    "print(\"Generated output:\")\n",
    "print(output)"
   ]
  },
  {
   "cell_type": "code",
   "execution_count": null,
   "id": "184b113a9a7f5009",
   "metadata": {},
   "outputs": [],
   "source": [
    "input_text = \"Here is an example LinkedIn profile entry:\\n...\"\n",
    "for token in generate_output(input_text):\n",
    "    print(token, end=\"\", flush=True)\n",
    "    # Process the partial output if needed"
   ]
  },
  {
   "cell_type": "code",
   "execution_count": null,
   "id": "b1aa318b0fa4e71d",
   "metadata": {
    "ExecuteTime": {
     "end_time": "2024-06-09T18:37:15.756311Z",
     "start_time": "2024-06-09T18:35:04.120304Z"
    }
   },
   "outputs": [],
   "source": [
    "import transformers\n",
    "import torch\n",
    "import os\n",
    "import dotenv\n",
    "\n",
    "dotenv.load_dotenv()\n",
    "model_id = os.getenv(\"MODEL_PATH\")\n",
    "\n",
    "pipeline = transformers.pipeline(\n",
    "    \"text-generation\",\n",
    "    model=model_id,\n",
    "    model_kwargs={\"torch_dtype\": torch.bfloat16},\n",
    "    device_map=\"auto\",\n",
    ")\n",
    "\n",
    "messages = [\n",
    "    {\"role\": \"system\", \"content\": \"You are a pirate chatbot who always responds in pirate speak!\"},\n",
    "    {\"role\": \"user\", \"content\": \"Who are you?\"},\n",
    "]\n",
    "\n",
    "terminators = [\n",
    "    pipeline.tokenizer.eos_token_id,\n",
    "    pipeline.tokenizer.convert_tokens_to_ids(\"<|eot_id|>\")\n",
    "]\n",
    "\n",
    "outputs = pipeline(\n",
    "    messages,\n",
    "    max_new_tokens=256,\n",
    "    eos_token_id=terminators,\n",
    "    do_sample=True,\n",
    "    temperature=0.6,\n",
    "    top_p=0.9,\n",
    ")\n",
    "print(outputs[0][\"generated_text\"][-1])"
   ]
  },
  {
   "cell_type": "code",
   "execution_count": null,
   "id": "231146212b0075b9",
   "metadata": {},
   "outputs": [],
   "source": [
    "import os\n",
    "import torch\n",
    "import transformers\n",
    "import dotenv\n",
    "\n",
    "dotenv.load_dotenv()\n",
    "model_id = os.getenv(\"MODEL_PATH\")\n",
    "\n",
    "# Set the device to GPU if available\n",
    "device = torch.device(\"cuda\" if torch.cuda.is_available() else \"cpu\")\n",
    "\n",
    "# Load the model and tokenizer\n",
    "model = transformers.AutoModelForCausalLM.from_pretrained(model_id)\n",
    "tokenizer = transformers.AutoTokenizer.from_pretrained(model_id)\n",
    "\n",
    "# Move the model to the GPU\n",
    "model.to(device)\n",
    "\n",
    "messages = [\n",
    "    {\"role\": \"system\", \"content\": \"You are a pirate chatbot who always responds in pirate speak!\"},\n",
    "    {\"role\": \"user\", \"content\": \"Who are you?\"},\n",
    "]\n",
    "\n",
    "# Tokenize the input messages\n",
    "input_ids = tokenizer.encode(messages[0][\"content\"], return_tensors=\"pt\").to(device)\n",
    "for message in messages[1:]:\n",
    "    message_ids = tokenizer.encode(message[\"content\"], return_tensors=\"pt\").to(device)\n",
    "    input_ids = torch.cat([input_ids, message_ids], dim=-1)\n",
    "\n",
    "terminators = [\n",
    "    tokenizer.eos_token_id,\n",
    "    tokenizer.convert_tokens_to_ids(\"<|eot_id|>\")\n",
    "]\n",
    "\n",
    "# Generate the output token by token\n",
    "output_ids = model.generate(\n",
    "    input_ids,\n",
    "    max_length=input_ids.shape[1] + 256,\n",
    "    eos_token_id=terminators,\n",
    "    do_sample=True,\n",
    "    temperature=0.6,\n",
    "    top_p=0.9,\n",
    "    num_return_sequences=1,\n",
    "    pad_token_id=tokenizer.eos_token_id,\n",
    "    output_scores=True,\n",
    "    return_dict_in_generate=True,\n",
    "    num_beams=1,\n",
    ")\n",
    "\n",
    "# Stream the generated output\n",
    "for i in range(input_ids.shape[1], output_ids.sequences.shape[1]):\n",
    "    token = tokenizer.decode(output_ids.sequences[0, i], skip_special_tokens=True)\n",
    "    print(token, end=\"\", flush=True)\n",
    "\n",
    "# Print the final generated text\n",
    "generated_text = tokenizer.decode(output_ids.sequences[0], skip_special_tokens=True)\n",
    "print(\"\\n\" + generated_text)"
   ]
  },
  {
   "cell_type": "code",
   "execution_count": null,
   "id": "d781bc41f444b811",
   "metadata": {
    "ExecuteTime": {
     "end_time": "2024-06-09T18:29:41.927230Z",
     "start_time": "2024-06-09T18:29:30.839645Z"
    }
   },
   "outputs": [],
   "source": [
    "import transformers\n",
    "import os\n",
    "import dotenv\n",
    "\n",
    "dotenv.load_dotenv()\n",
    "model_id = os.getenv(\"MODEL_PATH\")\n",
    "model = transformers.AutoModelForCausalLM.from_pretrained(model_id)\n",
    "\n",
    "print(f\"Model size: {model.get_memory_usage():.2f} MB\")"
   ]
  },
  {
   "cell_type": "code",
   "execution_count": null,
   "id": "7ae6b7485a2c2be8",
   "metadata": {
    "ExecuteTime": {
     "end_time": "2024-06-09T18:30:01.045188Z",
     "start_time": "2024-06-09T18:30:01.022152Z"
    }
   },
   "outputs": [],
   "source": [
    "print(f\"Model size: {model.get_memory_usage():.2f} MB\")"
   ]
  }
 ],
 "metadata": {
  "kernelspec": {
   "display_name": "Python 3 (ipykernel)",
   "language": "python",
   "name": "python3"
  },
  "language_info": {
   "codemirror_mode": {
    "name": "ipython",
    "version": 3
   },
   "file_extension": ".py",
   "mimetype": "text/x-python",
   "name": "python",
   "nbconvert_exporter": "python",
   "pygments_lexer": "ipython3",
   "version": "3.11.4"
  }
 },
 "nbformat": 4,
 "nbformat_minor": 5
}
