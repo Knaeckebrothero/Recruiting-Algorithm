{
 "cells": [
  {
   "cell_type": "code",
   "execution_count": null,
   "id": "initial_id",
   "metadata": {
    "collapsed": true
   },
   "outputs": [],
   "source": [
    "\n",
    "\n",
    "# Read the system prompt\n",
    "with open('prompt.txt', 'r') as file:\n",
    "    # Read the entire content of the file\n",
    "    sys_prompt = file.read()\n",
    "\n",
    "# Run the preparation function\n",
    "preprocess_and_save_experiences(\n",
    "    input_file_path=os.getenv(\"INPUT_FILE_PATH\"),\n",
    "    output_path=os.getenv(\"OUTPUT_PATH\"),\n",
    "    system_prompt=sys_prompt,\n",
    "    model_id_or_path=os.getenv(\"LLAMA_3_PATH\")\n",
    ")"
   ]
  },
  {
   "metadata": {},
   "cell_type": "code",
   "outputs": [],
   "execution_count": null,
   "source": [
    "import os\n",
    "import torch\n",
    "from transformers import AutoModelForCausalLM\n",
    "\n",
    "\n",
    "def load_data_batch\n",
    "\n",
    "def process_file(file_path, model, device):\n",
    "    \n",
    "    # Load input tokens to gpu\n",
    "    tensor_data = torch.load(file_path).to(device)\n",
    "    \n",
    "    # Extract the input_ids tensor from the loaded data\n",
    "    input_ids = tensor_data['encoded_experiences']\n",
    "    \n",
    "    # Move tensors to the appropriate device\n",
    "    input_ids = torch.tensor(input_ids).to(device)\n",
    "    \n",
    "    # Generate output\n",
    "    with torch.no_grad():\n",
    "        outputs = model.generate(input_ids, max_new_tokens=256, do_sample=True, temperature=0.7, top_p=0.9)\n",
    "        \n",
    "    return outputs\n",
    "\n",
    "\n",
    "def run_model_on_files(folder_path, model_id_or_path, device='cuda'):\n",
    "    model = AutoModelForCausalLM.from_pretrained(model_id_or_path).to(device)\n",
    "    \n",
    "    results = []\n",
    "    \n",
    "    # Iterate over files in the directory\n",
    "    for file_name in os.listdir(folder_path):\n",
    "        file_path = os.path.join(folder_path, file_name)\n",
    "        \n",
    "        # Process each file\n",
    "        try:\n",
    "            outputs = process_file(file_path, model, device)\n",
    "            results.append(outputs)\n",
    "            print(f\"Processed {file_name}\")\n",
    "        except Exception as e:\n",
    "            print(f\"Error processing {file_name}: {e}\")\n",
    "    \n",
    "    return results\n",
    "\n",
    "# Example usage\n",
    "folder_path = 'path/to/token_files'  # Update this path\n",
    "model_id_or_path = \"model_identifier\"  # Replace with your model identifier\n",
    "device = 'cuda' if torch.cuda.is_available() else 'cpu'\n",
    "\n",
    "results = run_model_on_files(folder_path, model_id_or_path, device)\n"
   ],
   "id": "aa34c4b933f62d6"
  },
  {
   "metadata": {},
   "cell_type": "code",
   "outputs": [],
   "execution_count": null,
   "source": [
    "meta-llama/Meta-Llama-3-8B-Instruct\n",
    "\n",
    "terminators = [\n",
    "    tokenizer.eos_token_id,\n",
    "    tokenizer.convert_tokens_to_ids(\"<|eot_id|>\")\n",
    "]\n",
    "\n",
    "    print(tokenizer.decode(response, skip_special_tokens=True))"
   ],
   "id": "4f5bacfb90d6e51"
  },
  {
   "metadata": {},
   "cell_type": "code",
   "outputs": [],
   "execution_count": null,
   "source": [
    "\n",
    "\n",
    "def generate_output(input_tokens, generation_model):\n",
    "    # Pass tokens to the models gpu\n",
    "    gpu_tokens = input_tokens.to(model.device)\n",
    "    \n",
    "    \n",
    "    output = generation_model.generate(\n",
    "        gpu_tokens,\n",
    "        eos_token_id=[128009, 128009],\n",
    "        do_sample=True,\n",
    "        temperature=0.3,\n",
    "    )\n",
    "    return output[0][input_ids.shape[-1]:]"
   ],
   "id": "b152b87fc843aacf"
  },
  {
   "metadata": {
    "ExecuteTime": {
     "end_time": "2024-06-15T14:16:09.689169Z",
     "start_time": "2024-06-15T14:15:54.595641Z"
    }
   },
   "cell_type": "code",
   "source": [
    "from transformers import AutoTokenizer, AutoModelForCausalLM\n",
    "import torch\n",
    "\n",
    "import os\n",
    "import dotenv\n",
    "\n",
    "# Load environment variables\n",
    "dotenv.load_dotenv(dotenv.find_dotenv())\n",
    "\n",
    "# model_id = \"meta-llama/Meta-Llama-3-8B-Instruct\"\n",
    "model_id = os.getenv(\"LLAMA_3_PATH\")\n",
    "\n",
    "tokenizer = AutoTokenizer.from_pretrained(model_id)\n",
    "model = AutoModelForCausalLM.from_pretrained(\n",
    "    model_id,\n",
    "    torch_dtype=torch.bfloat16,\n",
    "    device_map=\"auto\",\n",
    ")\n",
    "\n",
    "terminators = [\n",
    "    tokenizer.eos_token_id,\n",
    "    tokenizer.convert_tokens_to_ids(\"<|eot_id|>\")\n",
    "]\n",
    "\n",
    "print(terminators)"
   ],
   "id": "87b69dd235759942",
   "outputs": [
    {
     "name": "stderr",
     "output_type": "stream",
     "text": [
      "Special tokens have been added in the vocabulary, make sure the associated word embeddings are fine-tuned or trained.\n"
     ]
    },
    {
     "data": {
      "text/plain": [
       "Loading checkpoint shards:   0%|          | 0/4 [00:00<?, ?it/s]"
      ],
      "application/vnd.jupyter.widget-view+json": {
       "version_major": 2,
       "version_minor": 0,
       "model_id": "3378f4531e5940539f4455912521cd46"
      }
     },
     "metadata": {},
     "output_type": "display_data"
    },
    {
     "name": "stdout",
     "output_type": "stream",
     "text": [
      "[128009, 128009]\n"
     ]
    }
   ],
   "execution_count": 2
  },
  {
   "metadata": {},
   "cell_type": "code",
   "source": [
    "import os\n",
    "import shutil\n",
    "import random\n",
    "\n",
    "\n",
    "# Set the path to the source and destination directories\n",
    "source_directory = \"\"\n",
    "destination_directory = \"\"\n",
    "\n",
    "# Get a list of all files in the source directory\n",
    "all_files = [f for f in os.listdir(source_directory) if os.path.isfile(os.path.join(source_directory, f))]\n",
    "\n",
    "# Randomly select 500 files\n",
    "random_files = random.sample(all_files, 100)\n",
    "\n",
    "# Copy the selected files to the destination directory\n",
    "for file_name in random_files:\n",
    "    source_path = os.path.join(source_directory, file_name)\n",
    "    destination_path = os.path.join(destination_directory, file_name)\n",
    "    shutil.copy2(source_path, destination_path)  # Use copy2 to preserve metadata\n"
   ],
   "id": "1b16a30d277db1cf",
   "outputs": [],
   "execution_count": null
  }
 ],
 "metadata": {
  "kernelspec": {
   "display_name": "Python 3",
   "language": "python",
   "name": "python3"
  },
  "language_info": {
   "codemirror_mode": {
    "name": "ipython",
    "version": 2
   },
   "file_extension": ".py",
   "mimetype": "text/x-python",
   "name": "python",
   "nbconvert_exporter": "python",
   "pygments_lexer": "ipython2",
   "version": "2.7.6"
  }
 },
 "nbformat": 4,
 "nbformat_minor": 5
}
