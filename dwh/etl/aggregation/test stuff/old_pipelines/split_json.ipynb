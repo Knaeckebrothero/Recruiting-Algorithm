{
 "cells": [
  {
   "cell_type": "code",
   "execution_count": null,
   "metadata": {},
   "outputs": [],
   "source": [
    "import json\n",
    "\n",
    "\n",
    "def split_json(input_file, max_records=1000):\n",
    "    # Load the JSON data from the file\n",
    "    with open(input_file, 'r', encoding='utf-8') as file:\n",
    "        data = json.load(file)\n",
    "\n",
    "    # Create smaller chunks of the original data\n",
    "    for i in range(0, len(data), max_records):\n",
    "        chunk = data[i:i + max_records]\n",
    "        # Create a new JSON file for each chunk\n",
    "        with open(f'split_{i//max_records + 1}.json', 'w') as outfile:\n",
    "            json.dump(chunk, outfile, indent=4)\n",
    "\n",
    "    print(\"JSON files have been created successfully.\")"
   ]
  },
  {
   "cell_type": "code",
   "execution_count": null,
   "metadata": {},
   "outputs": [],
   "source": [
    "split_json(\"\")"
   ]
  }
 ],
 "metadata": {
  "kernelspec": {
   "display_name": "Python 3",
   "language": "python",
   "name": "python3"
  },
  "language_info": {
   "codemirror_mode": {
    "name": "ipython",
    "version": 3
   },
   "file_extension": ".py",
   "mimetype": "text/x-python",
   "name": "python",
   "nbconvert_exporter": "python",
   "pygments_lexer": "ipython3",
   "version": "3.11.4"
  }
 },
 "nbformat": 4,
 "nbformat_minor": 2
}
