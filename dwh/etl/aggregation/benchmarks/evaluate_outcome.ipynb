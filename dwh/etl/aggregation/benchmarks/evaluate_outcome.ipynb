{
 "cells": [
  {
   "cell_type": "code",
   "id": "initial_id",
   "metadata": {
    "collapsed": true,
    "ExecuteTime": {
     "end_time": "2024-06-16T12:07:24.176560Z",
     "start_time": "2024-06-16T12:07:24.170839Z"
    }
   },
   "source": [
    "import json\n",
    "\n",
    "\n",
    "def evaluate_result(generation_result_path: str, system_prompt: str, openai_client):\n",
    "    # Construct prompt\n",
    "    messages = [\n",
    "        {\"role\": \"system\", \"content\": system_prompt},\n",
    "        {\"role\": \"user\", \"content\": json.dumps(open(generation_result_path).read())}\n",
    "    ]\n",
    "\n",
    "    # Generate a completion\n",
    "    completion = openai_client.chat.completions.create(\n",
    "        # model=\"gpt-4-turbo\",\n",
    "        model=\"gpt-4o\",\n",
    "        response_format={\"type\": \"json_object\"},\n",
    "        messages=messages\n",
    "    )\n",
    "\n",
    "    # Get the generated text\n",
    "    result_string = completion.choices[0].message.content\n",
    "\n",
    "    # Convert the generated text into a dictionary\n",
    "    evaluation = json.loads(result_string)\n",
    "\n",
    "    # Return the dictionary\n",
    "    return evaluation"
   ],
   "outputs": [],
   "execution_count": 5
  },
  {
   "metadata": {
    "ExecuteTime": {
     "end_time": "2024-06-16T12:07:28.679162Z",
     "start_time": "2024-06-16T12:07:26.019061Z"
    }
   },
   "cell_type": "code",
   "source": [
    "import os\n",
    "import dotenv\n",
    "from openai import OpenAI\n",
    "\n",
    "\n",
    "# Load the environment variables\n",
    "dotenv.load_dotenv()\n",
    "os.environ['OPENAI_API_KEY'] = os.getenv('OPENAI_API_KEY')\n",
    "\n",
    "# Create an instance of the OpenAI class\n",
    "openai_api = OpenAI()\n",
    "\n",
    "# Read the system prompt\n",
    "with open('prompt.txt', 'r') as file:\n",
    "    # Read the entire content of the file\n",
    "    sys_prompt = file.read()\n",
    "\n",
    "# Test tagging the education dictionary\n",
    "result = evaluate_result(\n",
    "    os.getenv('Test_FILE_PATH'),\n",
    "    sys_prompt, \n",
    "    openai_api)\n",
    "\n",
    "# Print the result\n",
    "print(result)"
   ],
   "id": "cee423338b17c05e",
   "outputs": [
    {
     "name": "stdout",
     "output_type": "stream",
     "text": [
      "{'valid_json': True, 'accuracy_rating': 8, 'assumption_rating': 7, 'justification_rating': 8, 'missing_info_rating': 6, 'over_generalization_rating': 5, 'confidence_score': 8, 'comments': \"The generated JSON follows the required structure and is valid. The inferred industry and profession are accurate based on the company name and job title. The skills listed are relevant to a Mechanical Engineer role within a manufacturing or automation context, which is reasonable for Premier Automation. However, some skills like 'development' and 'automation' are slightly broad without more context. The tags are mostly relevant, but 'Pittsburgh area' might be considered too generic. Overall, the output is solid but could improve specificity in both skills and tags.\"}\n"
     ]
    }
   ],
   "execution_count": 6
  },
  {
   "metadata": {
    "ExecuteTime": {
     "end_time": "2024-06-16T12:57:30.284661Z",
     "start_time": "2024-06-16T12:24:21.503742Z"
    }
   },
   "cell_type": "code",
   "source": [
    "import json\n",
    "import os\n",
    "import dotenv\n",
    "from openai import OpenAI\n",
    "\n",
    "\n",
    "# Load the environment variables\n",
    "dotenv.load_dotenv()\n",
    "\n",
    "# Create an instance of the OpenAI class\n",
    "openai_api = OpenAI()\n",
    "\n",
    "# Directory containing all files to process\n",
    "results_directory = os.getenv('TAGS_FOLDER_PATH') + 'outputs_json/'\n",
    "\n",
    "# Read the system prompt\n",
    "with open('prompt.txt', 'r') as file:\n",
    "    sys_prompt = file.read()\n",
    "\n",
    "# List to hold all the results\n",
    "all_results = []\n",
    "\n",
    "# Iterate over all files in the results directory\n",
    "for filename in os.listdir(results_directory):\n",
    "    if filename.endswith(\".json\"):  # Adjust the file type if necessary\n",
    "        file_path = os.path.join(results_directory, filename)\n",
    "        # Evaluate the result for each file\n",
    "        result = evaluate_result(file_path, sys_prompt, openai_api)\n",
    "        # Append the result to the list\n",
    "        all_results.append(result)"
   ],
   "id": "65045b4c77f26a6",
   "outputs": [],
   "execution_count": 13
  },
  {
   "metadata": {
    "ExecuteTime": {
     "end_time": "2024-06-16T12:57:34.636209Z",
     "start_time": "2024-06-16T12:57:34.254480Z"
    }
   },
   "cell_type": "code",
   "source": [
    "import json\n",
    "import pandas as pd\n",
    "\n",
    "\n",
    "# Print the number of results\n",
    "print(len(all_results))\n",
    "\n",
    "# Save the results to a JSON file\n",
    "output_path = f'evaluation_{len(all_results)}_gpt_4o.json'\n",
    "with open(output_path, 'w') as json_file:\n",
    "    json.dump(all_results, json_file, indent=4)\n",
    "\n",
    "# Save the results to a CSV file\n",
    "eval_df = pd.DataFrame(all_results)\n",
    "eval_df.to_csv(f'evaluation_{len(all_results)}_gpt_4o.csv', index=False)"
   ],
   "id": "2a8d9c05a292a175",
   "outputs": [
    {
     "name": "stdout",
     "output_type": "stream",
     "text": [
      "600\n"
     ]
    }
   ],
   "execution_count": 14
  }
 ],
 "metadata": {
  "kernelspec": {
   "display_name": "Python 3",
   "language": "python",
   "name": "python3"
  },
  "language_info": {
   "codemirror_mode": {
    "name": "ipython",
    "version": 2
   },
   "file_extension": ".py",
   "mimetype": "text/x-python",
   "name": "python",
   "nbconvert_exporter": "python",
   "pygments_lexer": "ipython2",
   "version": "2.7.6"
  }
 },
 "nbformat": 4,
 "nbformat_minor": 5
}
