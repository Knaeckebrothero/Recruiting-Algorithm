{
 "cells":[
  {
   "cell_type":"markdown",
   "source":[
    "## Exploratory Analysis of Stack Overflow Survey \n",
    "\n",
    "Database can be useful to predict salaries, check top skills for different roles & define specific knowledge requirements for job postings\n",
    "\n",
    "## Steps to follow:\n",
    "\n",
    "- Basic Information and Descriptive Statistics\n",
    "- Correlation Analysis\n",
    "- Visualizations\n",
    "\n",
    "## Things to consider: \n",
    "\n",
    "Check for imbalances in the dataset."
   ],
   "attachments":{},
   "metadata":{
    "datalore":{
     "node_id":"yPzAl0zWldvM65ezvBvxJD",
     "type":"MD",
     "hide_input_from_viewers":true,
     "hide_output_from_viewers":true
    }
   }
  },
  {
   "cell_type":"code",
   "source":[
    "import pandas as pd\n",
    "import numpy as np\n",
    "\n",
    "import seaborn as sns\n",
    "import matplotlib.pyplot as plt"
   ],
   "execution_count":4,
   "outputs":[],
   "metadata":{
    "datalore":{
     "node_id":"5KW370ng611XVaW41q34ZD",
     "type":"CODE",
     "hide_input_from_viewers":true,
     "hide_output_from_viewers":true
    }
   }
  },
  {
   "cell_type":"code",
   "source":[
    "df = pd.read_csv(\"survey_results_public.csv\")\n",
    "pd.set_option('display.max_columns', None)\n",
    "\n",
    "print(df.columns.to_list())"
   ],
   "execution_count":5,
   "outputs":[
    {
     "name":"stdout",
     "text":[
      "['ResponseId', 'Q120', 'MainBranch', 'Age', 'Employment', 'RemoteWork', 'CodingActivities', 'EdLevel', 'LearnCode', 'LearnCodeOnline', 'LearnCodeCoursesCert', 'YearsCode', 'YearsCodePro', 'DevType', 'OrgSize', 'PurchaseInfluence', 'TechList', 'BuyNewTool', 'Country', 'Currency', 'CompTotal', 'LanguageHaveWorkedWith', 'LanguageWantToWorkWith', 'DatabaseHaveWorkedWith', 'DatabaseWantToWorkWith', 'PlatformHaveWorkedWith', 'PlatformWantToWorkWith', 'WebframeHaveWorkedWith', 'WebframeWantToWorkWith', 'MiscTechHaveWorkedWith', 'MiscTechWantToWorkWith', 'ToolsTechHaveWorkedWith', 'ToolsTechWantToWorkWith', 'NEWCollabToolsHaveWorkedWith', 'NEWCollabToolsWantToWorkWith', 'OpSysPersonal use', 'OpSysProfessional use', 'OfficeStackAsyncHaveWorkedWith', 'OfficeStackAsyncWantToWorkWith', 'OfficeStackSyncHaveWorkedWith', 'OfficeStackSyncWantToWorkWith', 'AISearchHaveWorkedWith', 'AISearchWantToWorkWith', 'AIDevHaveWorkedWith', 'AIDevWantToWorkWith', 'NEWSOSites', 'SOVisitFreq', 'SOAccount', 'SOPartFreq', 'SOComm', 'SOAI', 'AISelect', 'AISent', 'AIAcc', 'AIBen', 'AIToolInterested in Using', 'AIToolCurrently Using', 'AIToolNot interested in Using', 'AINextVery different', 'AINextNeither different nor similar', 'AINextSomewhat similar', 'AINextVery similar', 'AINextSomewhat different', 'TBranch', 'ICorPM', 'WorkExp', 'Knowledge_1', 'Knowledge_2', 'Knowledge_3', 'Knowledge_4', 'Knowledge_5', 'Knowledge_6', 'Knowledge_7', 'Knowledge_8', 'Frequency_1', 'Frequency_2', 'Frequency_3', 'TimeSearching', 'TimeAnswering', 'ProfessionalTech', 'Industry', 'SurveyLength', 'SurveyEase', 'ConvertedCompYearly']\n"
     ],
     "output_type":"stream"
    }
   ],
   "metadata":{
    "datalore":{
     "node_id":"AimxlzAQpEHO58ygiinEae",
     "type":"CODE",
     "hide_input_from_viewers":true,
     "hide_output_from_viewers":true
    }
   }
  },
  {
   "cell_type":"markdown",
   "source":[
    "## Basic Information and Descriptive Statistics"
   ],
   "attachments":{},
   "metadata":{
    "datalore":{
     "node_id":"5PexNxN9jKrf5xwjerV1ca",
     "type":"MD",
     "hide_input_from_viewers":true,
     "hide_output_from_viewers":true
    }
   }
  },
  {
   "cell_type":"code",
   "source":[
    "df.describe()"
   ],
   "execution_count":14,
   "outputs":[
    {
     "data":{
      "text\/html":[
       "<div>\n",
       "<style scoped>\n",
       "    .dataframe tbody tr th:only-of-type {\n",
       "        vertical-align: middle;\n",
       "    }\n",
       "\n",
       "    .dataframe tbody tr th {\n",
       "        vertical-align: top;\n",
       "    }\n",
       "\n",
       "    .dataframe thead th {\n",
       "        text-align: right;\n",
       "    }\n",
       "<\/style>\n",
       "<table border=\"1\" class=\"dataframe\">\n",
       "  <thead>\n",
       "    <tr style=\"text-align: right;\">\n",
       "      <th><\/th>\n",
       "      <th>ResponseId<\/th>\n",
       "      <th>CompTotal<\/th>\n",
       "      <th>WorkExp<\/th>\n",
       "      <th>ConvertedCompYearly<\/th>\n",
       "    <\/tr>\n",
       "  <\/thead>\n",
       "  <tbody>\n",
       "    <tr>\n",
       "      <th>count<\/th>\n",
       "      <td>89184.000000<\/td>\n",
       "      <td>4.822500e+04<\/td>\n",
       "      <td>43579.000000<\/td>\n",
       "      <td>4.801900e+04<\/td>\n",
       "    <\/tr>\n",
       "    <tr>\n",
       "      <th>mean<\/th>\n",
       "      <td>44592.500000<\/td>\n",
       "      <td>1.036807e+42<\/td>\n",
       "      <td>11.405126<\/td>\n",
       "      <td>1.031101e+05<\/td>\n",
       "    <\/tr>\n",
       "    <tr>\n",
       "      <th>std<\/th>\n",
       "      <td>25745.347541<\/td>\n",
       "      <td>2.276847e+44<\/td>\n",
       "      <td>9.051989<\/td>\n",
       "      <td>6.814188e+05<\/td>\n",
       "    <\/tr>\n",
       "    <tr>\n",
       "      <th>min<\/th>\n",
       "      <td>1.000000<\/td>\n",
       "      <td>0.000000e+00<\/td>\n",
       "      <td>0.000000<\/td>\n",
       "      <td>1.000000e+00<\/td>\n",
       "    <\/tr>\n",
       "    <tr>\n",
       "      <th>25%<\/th>\n",
       "      <td>22296.750000<\/td>\n",
       "      <td>6.300000e+04<\/td>\n",
       "      <td>5.000000<\/td>\n",
       "      <td>4.390700e+04<\/td>\n",
       "    <\/tr>\n",
       "    <tr>\n",
       "      <th>50%<\/th>\n",
       "      <td>44592.500000<\/td>\n",
       "      <td>1.150000e+05<\/td>\n",
       "      <td>9.000000<\/td>\n",
       "      <td>7.496300e+04<\/td>\n",
       "    <\/tr>\n",
       "    <tr>\n",
       "      <th>75%<\/th>\n",
       "      <td>66888.250000<\/td>\n",
       "      <td>2.300000e+05<\/td>\n",
       "      <td>16.000000<\/td>\n",
       "      <td>1.216410e+05<\/td>\n",
       "    <\/tr>\n",
       "    <tr>\n",
       "      <th>max<\/th>\n",
       "      <td>89184.000000<\/td>\n",
       "      <td>5.000000e+46<\/td>\n",
       "      <td>50.000000<\/td>\n",
       "      <td>7.435143e+07<\/td>\n",
       "    <\/tr>\n",
       "  <\/tbody>\n",
       "<\/table>\n",
       "<\/div>"
      ]
     },
     "metadata":{},
     "output_type":"display_data"
    }
   ],
   "metadata":{
    "datalore":{
     "node_id":"ttJsGNsYfn2oWdXl99UCWO",
     "type":"CODE",
     "hide_input_from_viewers":true,
     "hide_output_from_viewers":true
    }
   }
  },
  {
   "cell_type":"code",
   "source":[
    "#Numerical columns\n",
    "num = df.select_dtypes(exclude='O')\n",
    "num.head(5)"
   ],
   "execution_count":6,
   "outputs":[
    {
     "data":{
      "text\/html":[
       "<div>\n",
       "<style scoped>\n",
       "    .dataframe tbody tr th:only-of-type {\n",
       "        vertical-align: middle;\n",
       "    }\n",
       "\n",
       "    .dataframe tbody tr th {\n",
       "        vertical-align: top;\n",
       "    }\n",
       "\n",
       "    .dataframe thead th {\n",
       "        text-align: right;\n",
       "    }\n",
       "<\/style>\n",
       "<table border=\"1\" class=\"dataframe\">\n",
       "  <thead>\n",
       "    <tr style=\"text-align: right;\">\n",
       "      <th><\/th>\n",
       "      <th>ResponseId<\/th>\n",
       "      <th>CompTotal<\/th>\n",
       "      <th>WorkExp<\/th>\n",
       "      <th>ConvertedCompYearly<\/th>\n",
       "    <\/tr>\n",
       "  <\/thead>\n",
       "  <tbody>\n",
       "    <tr>\n",
       "      <th>0<\/th>\n",
       "      <td>1<\/td>\n",
       "      <td>NaN<\/td>\n",
       "      <td>NaN<\/td>\n",
       "      <td>NaN<\/td>\n",
       "    <\/tr>\n",
       "    <tr>\n",
       "      <th>1<\/th>\n",
       "      <td>2<\/td>\n",
       "      <td>285000.0<\/td>\n",
       "      <td>10.0<\/td>\n",
       "      <td>285000.0<\/td>\n",
       "    <\/tr>\n",
       "    <tr>\n",
       "      <th>2<\/th>\n",
       "      <td>3<\/td>\n",
       "      <td>250000.0<\/td>\n",
       "      <td>23.0<\/td>\n",
       "      <td>250000.0<\/td>\n",
       "    <\/tr>\n",
       "    <tr>\n",
       "      <th>3<\/th>\n",
       "      <td>4<\/td>\n",
       "      <td>156000.0<\/td>\n",
       "      <td>7.0<\/td>\n",
       "      <td>156000.0<\/td>\n",
       "    <\/tr>\n",
       "    <tr>\n",
       "      <th>4<\/th>\n",
       "      <td>5<\/td>\n",
       "      <td>1320000.0<\/td>\n",
       "      <td>6.0<\/td>\n",
       "      <td>23456.0<\/td>\n",
       "    <\/tr>\n",
       "  <\/tbody>\n",
       "<\/table>\n",
       "<\/div>"
      ]
     },
     "metadata":{},
     "output_type":"display_data"
    }
   ],
   "metadata":{
    "datalore":{
     "node_id":"Sa5MB1mvRw755Wu8CP2ZHa",
     "type":"CODE",
     "hide_input_from_viewers":true,
     "hide_output_from_viewers":true
    }
   }
  },
  {
   "cell_type":"code",
   "source":[
    "#categorical columns\n",
    "cat = df.select_dtypes(include='O')\n",
    "cat.head(5)"
   ],
   "execution_count":7,
   "outputs":[
    {
     "data":{
      "text\/html":[
       "<div>\n",
       "<style scoped>\n",
       "    .dataframe tbody tr th:only-of-type {\n",
       "        vertical-align: middle;\n",
       "    }\n",
       "\n",
       "    .dataframe tbody tr th {\n",
       "        vertical-align: top;\n",
       "    }\n",
       "\n",
       "    .dataframe thead th {\n",
       "        text-align: right;\n",
       "    }\n",
       "<\/style>\n",
       "<table border=\"1\" class=\"dataframe\">\n",
       "  <thead>\n",
       "    <tr style=\"text-align: right;\">\n",
       "      <th><\/th>\n",
       "      <th>Q120<\/th>\n",
       "      <th>MainBranch<\/th>\n",
       "      <th>Age<\/th>\n",
       "      <th>Employment<\/th>\n",
       "      <th>RemoteWork<\/th>\n",
       "      <th>CodingActivities<\/th>\n",
       "      <th>EdLevel<\/th>\n",
       "      <th>LearnCode<\/th>\n",
       "      <th>LearnCodeOnline<\/th>\n",
       "      <th>LearnCodeCoursesCert<\/th>\n",
       "      <th>YearsCode<\/th>\n",
       "      <th>YearsCodePro<\/th>\n",
       "      <th>DevType<\/th>\n",
       "      <th>OrgSize<\/th>\n",
       "      <th>PurchaseInfluence<\/th>\n",
       "      <th>TechList<\/th>\n",
       "      <th>BuyNewTool<\/th>\n",
       "      <th>Country<\/th>\n",
       "      <th>Currency<\/th>\n",
       "      <th>LanguageHaveWorkedWith<\/th>\n",
       "      <th>LanguageWantToWorkWith<\/th>\n",
       "      <th>DatabaseHaveWorkedWith<\/th>\n",
       "      <th>DatabaseWantToWorkWith<\/th>\n",
       "      <th>PlatformHaveWorkedWith<\/th>\n",
       "      <th>PlatformWantToWorkWith<\/th>\n",
       "      <th>WebframeHaveWorkedWith<\/th>\n",
       "      <th>WebframeWantToWorkWith<\/th>\n",
       "      <th>MiscTechHaveWorkedWith<\/th>\n",
       "      <th>MiscTechWantToWorkWith<\/th>\n",
       "      <th>ToolsTechHaveWorkedWith<\/th>\n",
       "      <th>ToolsTechWantToWorkWith<\/th>\n",
       "      <th>NEWCollabToolsHaveWorkedWith<\/th>\n",
       "      <th>NEWCollabToolsWantToWorkWith<\/th>\n",
       "      <th>OpSysPersonal use<\/th>\n",
       "      <th>OpSysProfessional use<\/th>\n",
       "      <th>OfficeStackAsyncHaveWorkedWith<\/th>\n",
       "      <th>OfficeStackAsyncWantToWorkWith<\/th>\n",
       "      <th>OfficeStackSyncHaveWorkedWith<\/th>\n",
       "      <th>OfficeStackSyncWantToWorkWith<\/th>\n",
       "      <th>AISearchHaveWorkedWith<\/th>\n",
       "      <th>AISearchWantToWorkWith<\/th>\n",
       "      <th>AIDevHaveWorkedWith<\/th>\n",
       "      <th>AIDevWantToWorkWith<\/th>\n",
       "      <th>NEWSOSites<\/th>\n",
       "      <th>SOVisitFreq<\/th>\n",
       "      <th>SOAccount<\/th>\n",
       "      <th>SOPartFreq<\/th>\n",
       "      <th>SOComm<\/th>\n",
       "      <th>SOAI<\/th>\n",
       "      <th>AISelect<\/th>\n",
       "      <th>AISent<\/th>\n",
       "      <th>AIAcc<\/th>\n",
       "      <th>AIBen<\/th>\n",
       "      <th>AIToolInterested in Using<\/th>\n",
       "      <th>AIToolCurrently Using<\/th>\n",
       "      <th>AIToolNot interested in Using<\/th>\n",
       "      <th>AINextVery different<\/th>\n",
       "      <th>AINextNeither different nor similar<\/th>\n",
       "      <th>AINextSomewhat similar<\/th>\n",
       "      <th>AINextVery similar<\/th>\n",
       "      <th>AINextSomewhat different<\/th>\n",
       "      <th>TBranch<\/th>\n",
       "      <th>ICorPM<\/th>\n",
       "      <th>Knowledge_1<\/th>\n",
       "      <th>Knowledge_2<\/th>\n",
       "      <th>Knowledge_3<\/th>\n",
       "      <th>Knowledge_4<\/th>\n",
       "      <th>Knowledge_5<\/th>\n",
       "      <th>Knowledge_6<\/th>\n",
       "      <th>Knowledge_7<\/th>\n",
       "      <th>Knowledge_8<\/th>\n",
       "      <th>Frequency_1<\/th>\n",
       "      <th>Frequency_2<\/th>\n",
       "      <th>Frequency_3<\/th>\n",
       "      <th>TimeSearching<\/th>\n",
       "      <th>TimeAnswering<\/th>\n",
       "      <th>ProfessionalTech<\/th>\n",
       "      <th>Industry<\/th>\n",
       "      <th>SurveyLength<\/th>\n",
       "      <th>SurveyEase<\/th>\n",
       "    <\/tr>\n",
       "  <\/thead>\n",
       "  <tbody>\n",
       "    <tr>\n",
       "      <th>0<\/th>\n",
       "      <td>I agree<\/td>\n",
       "      <td>None of these<\/td>\n",
       "      <td>18-24 years old<\/td>\n",
       "      <td>NaN<\/td>\n",
       "      <td>NaN<\/td>\n",
       "      <td>NaN<\/td>\n",
       "      <td>NaN<\/td>\n",
       "      <td>NaN<\/td>\n",
       "      <td>NaN<\/td>\n",
       "      <td>NaN<\/td>\n",
       "      <td>NaN<\/td>\n",
       "      <td>NaN<\/td>\n",
       "      <td>NaN<\/td>\n",
       "      <td>NaN<\/td>\n",
       "      <td>NaN<\/td>\n",
       "      <td>NaN<\/td>\n",
       "      <td>NaN<\/td>\n",
       "      <td>NaN<\/td>\n",
       "      <td>NaN<\/td>\n",
       "      <td>NaN<\/td>\n",
       "      <td>NaN<\/td>\n",
       "      <td>NaN<\/td>\n",
       "      <td>NaN<\/td>\n",
       "      <td>NaN<\/td>\n",
       "      <td>NaN<\/td>\n",
       "      <td>NaN<\/td>\n",
       "      <td>NaN<\/td>\n",
       "      <td>NaN<\/td>\n",
       "      <td>NaN<\/td>\n",
       "      <td>NaN<\/td>\n",
       "      <td>NaN<\/td>\n",
       "      <td>NaN<\/td>\n",
       "      <td>NaN<\/td>\n",
       "      <td>NaN<\/td>\n",
       "      <td>NaN<\/td>\n",
       "      <td>NaN<\/td>\n",
       "      <td>NaN<\/td>\n",
       "      <td>NaN<\/td>\n",
       "      <td>NaN<\/td>\n",
       "      <td>NaN<\/td>\n",
       "      <td>NaN<\/td>\n",
       "      <td>NaN<\/td>\n",
       "      <td>NaN<\/td>\n",
       "      <td>NaN<\/td>\n",
       "      <td>NaN<\/td>\n",
       "      <td>NaN<\/td>\n",
       "      <td>NaN<\/td>\n",
       "      <td>NaN<\/td>\n",
       "      <td>NaN<\/td>\n",
       "      <td>NaN<\/td>\n",
       "      <td>NaN<\/td>\n",
       "      <td>NaN<\/td>\n",
       "      <td>NaN<\/td>\n",
       "      <td>NaN<\/td>\n",
       "      <td>NaN<\/td>\n",
       "      <td>NaN<\/td>\n",
       "      <td>NaN<\/td>\n",
       "      <td>NaN<\/td>\n",
       "      <td>NaN<\/td>\n",
       "      <td>NaN<\/td>\n",
       "      <td>NaN<\/td>\n",
       "      <td>NaN<\/td>\n",
       "      <td>NaN<\/td>\n",
       "      <td>NaN<\/td>\n",
       "      <td>NaN<\/td>\n",
       "      <td>NaN<\/td>\n",
       "      <td>NaN<\/td>\n",
       "      <td>NaN<\/td>\n",
       "      <td>NaN<\/td>\n",
       "      <td>NaN<\/td>\n",
       "      <td>NaN<\/td>\n",
       "      <td>NaN<\/td>\n",
       "      <td>NaN<\/td>\n",
       "      <td>NaN<\/td>\n",
       "      <td>NaN<\/td>\n",
       "      <td>NaN<\/td>\n",
       "      <td>NaN<\/td>\n",
       "      <td>NaN<\/td>\n",
       "      <td>NaN<\/td>\n",
       "      <td>NaN<\/td>\n",
       "    <\/tr>\n",
       "    <tr>\n",
       "      <th>1<\/th>\n",
       "      <td>I agree<\/td>\n",
       "      <td>I am a developer by profession<\/td>\n",
       "      <td>25-34 years old<\/td>\n",
       "      <td>Employed, full-time<\/td>\n",
       "      <td>Remote<\/td>\n",
       "      <td>Hobby;Contribute to open-source projects;Boots...<\/td>\n",
       "      <td>Bachelor’s degree (B.A., B.S., B.Eng., etc.)<\/td>\n",
       "      <td>Books \/ Physical media;Colleague;Friend or fam...<\/td>\n",
       "      <td>Formal documentation provided by the owner of ...<\/td>\n",
       "      <td>Other<\/td>\n",
       "      <td>18<\/td>\n",
       "      <td>9<\/td>\n",
       "      <td>Senior Executive (C-Suite, VP, etc.)<\/td>\n",
       "      <td>2 to 9 employees<\/td>\n",
       "      <td>I have a great deal of influence<\/td>\n",
       "      <td>Investigate<\/td>\n",
       "      <td>Start a free trial;Ask developers I know\/work ...<\/td>\n",
       "      <td>United States of America<\/td>\n",
       "      <td>USD\\tUnited States dollar<\/td>\n",
       "      <td>HTML\/CSS;JavaScript;Python<\/td>\n",
       "      <td>Bash\/Shell (all shells);C#;Dart;Elixir;GDScrip...<\/td>\n",
       "      <td>Supabase<\/td>\n",
       "      <td>Firebase Realtime Database;Supabase<\/td>\n",
       "      <td>Amazon Web Services (AWS);Netlify;Vercel<\/td>\n",
       "      <td>Fly.io;Netlify;Render<\/td>\n",
       "      <td>Next.js;React;Remix;Vue.js<\/td>\n",
       "      <td>Deno;Elm;Nuxt.js;React;Svelte;Vue.js<\/td>\n",
       "      <td>Electron;React Native;Tauri<\/td>\n",
       "      <td>Capacitor;Electron;Tauri;Uno Platform;Xamarin<\/td>\n",
       "      <td>Docker;Kubernetes;npm;Pip;Vite;Webpack;Yarn<\/td>\n",
       "      <td>Godot;npm;pnpm;Unity 3D;Unreal Engine;Vite;Web...<\/td>\n",
       "      <td>Vim;Visual Studio Code<\/td>\n",
       "      <td>Vim;Visual Studio Code<\/td>\n",
       "      <td>iOS;iPadOS;MacOS;Windows;Windows Subsystem for...<\/td>\n",
       "      <td>MacOS;Windows;Windows Subsystem for Linux (WSL)<\/td>\n",
       "      <td>Asana;Basecamp;GitHub Discussions;Jira;Linear;...<\/td>\n",
       "      <td>GitHub Discussions;Linear;Notion;Trello<\/td>\n",
       "      <td>Cisco Webex Teams;Discord;Google Chat;Google M...<\/td>\n",
       "      <td>Discord;Signal;Slack;Zoom<\/td>\n",
       "      <td>ChatGPT<\/td>\n",
       "      <td>ChatGPT;Neeva AI<\/td>\n",
       "      <td>GitHub Copilot<\/td>\n",
       "      <td>GitHub Copilot<\/td>\n",
       "      <td>Stack Overflow;Stack Exchange<\/td>\n",
       "      <td>Daily or almost daily<\/td>\n",
       "      <td>Yes<\/td>\n",
       "      <td>A few times per month or weekly<\/td>\n",
       "      <td>Yes, definitely<\/td>\n",
       "      <td>I don't think it's super necessary, but I thin...<\/td>\n",
       "      <td>Yes<\/td>\n",
       "      <td>Indifferent<\/td>\n",
       "      <td>Other (please explain)<\/td>\n",
       "      <td>Somewhat distrust<\/td>\n",
       "      <td>Learning about a codebase;Writing code;Debuggi...<\/td>\n",
       "      <td>Writing code;Committing and reviewing code<\/td>\n",
       "      <td>NaN<\/td>\n",
       "      <td>NaN<\/td>\n",
       "      <td>NaN<\/td>\n",
       "      <td>NaN<\/td>\n",
       "      <td>NaN<\/td>\n",
       "      <td>NaN<\/td>\n",
       "      <td>Yes<\/td>\n",
       "      <td>People manager<\/td>\n",
       "      <td>Strongly agree<\/td>\n",
       "      <td>Agree<\/td>\n",
       "      <td>Strongly agree<\/td>\n",
       "      <td>Agree<\/td>\n",
       "      <td>Agree<\/td>\n",
       "      <td>Agree<\/td>\n",
       "      <td>Agree<\/td>\n",
       "      <td>Strongly agree<\/td>\n",
       "      <td>1-2 times a week<\/td>\n",
       "      <td>10+ times a week<\/td>\n",
       "      <td>Never<\/td>\n",
       "      <td>15-30 minutes a day<\/td>\n",
       "      <td>15-30 minutes a day<\/td>\n",
       "      <td>DevOps function;Microservices;Automated testin...<\/td>\n",
       "      <td>Information Services, IT, Software Development...<\/td>\n",
       "      <td>Appropriate in length<\/td>\n",
       "      <td>Easy<\/td>\n",
       "    <\/tr>\n",
       "    <tr>\n",
       "      <th>2<\/th>\n",
       "      <td>I agree<\/td>\n",
       "      <td>I am a developer by profession<\/td>\n",
       "      <td>45-54 years old<\/td>\n",
       "      <td>Employed, full-time<\/td>\n",
       "      <td>Hybrid (some remote, some in-person)<\/td>\n",
       "      <td>Hobby;Professional development or self-paced l...<\/td>\n",
       "      <td>Bachelor’s degree (B.A., B.S., B.Eng., etc.)<\/td>\n",
       "      <td>Books \/ Physical media;Colleague;On the job tr...<\/td>\n",
       "      <td>Formal documentation provided by the owner of ...<\/td>\n",
       "      <td>NaN<\/td>\n",
       "      <td>27<\/td>\n",
       "      <td>23<\/td>\n",
       "      <td>Developer, back-end<\/td>\n",
       "      <td>5,000 to 9,999 employees<\/td>\n",
       "      <td>I have some influence<\/td>\n",
       "      <td>Given a list<\/td>\n",
       "      <td>Start a free trial;Ask developers I know\/work ...<\/td>\n",
       "      <td>United States of America<\/td>\n",
       "      <td>USD\\tUnited States dollar<\/td>\n",
       "      <td>Bash\/Shell (all shells);Go<\/td>\n",
       "      <td>Haskell;OCaml;Rust<\/td>\n",
       "      <td>NaN<\/td>\n",
       "      <td>NaN<\/td>\n",
       "      <td>Amazon Web Services (AWS);Google Cloud;OpenSta...<\/td>\n",
       "      <td>NaN<\/td>\n",
       "      <td>NaN<\/td>\n",
       "      <td>NaN<\/td>\n",
       "      <td>NaN<\/td>\n",
       "      <td>NaN<\/td>\n",
       "      <td>Cargo;Docker;Kubernetes;Make;Nix<\/td>\n",
       "      <td>Cargo;Kubernetes;Nix<\/td>\n",
       "      <td>Emacs;Helix<\/td>\n",
       "      <td>Emacs;Helix<\/td>\n",
       "      <td>MacOS;Other Linux-based<\/td>\n",
       "      <td>MacOS;Other Linux-based<\/td>\n",
       "      <td>Markdown File;Stack Overflow for Teams<\/td>\n",
       "      <td>Markdown File<\/td>\n",
       "      <td>Microsoft Teams;Slack;Zoom<\/td>\n",
       "      <td>Slack;Zoom<\/td>\n",
       "      <td>NaN<\/td>\n",
       "      <td>NaN<\/td>\n",
       "      <td>NaN<\/td>\n",
       "      <td>NaN<\/td>\n",
       "      <td>Stack Overflow;Stack Exchange;Stack Overflow f...<\/td>\n",
       "      <td>A few times per month or weekly<\/td>\n",
       "      <td>Yes<\/td>\n",
       "      <td>Less than once per month or monthly<\/td>\n",
       "      <td>Neutral<\/td>\n",
       "      <td>NaN<\/td>\n",
       "      <td>No, and I don't plan to<\/td>\n",
       "      <td>NaN<\/td>\n",
       "      <td>NaN<\/td>\n",
       "      <td>NaN<\/td>\n",
       "      <td>NaN<\/td>\n",
       "      <td>NaN<\/td>\n",
       "      <td>NaN<\/td>\n",
       "      <td>NaN<\/td>\n",
       "      <td>NaN<\/td>\n",
       "      <td>NaN<\/td>\n",
       "      <td>NaN<\/td>\n",
       "      <td>NaN<\/td>\n",
       "      <td>Yes<\/td>\n",
       "      <td>Individual contributor<\/td>\n",
       "      <td>Strongly agree<\/td>\n",
       "      <td>Neither agree nor disagree<\/td>\n",
       "      <td>Agree<\/td>\n",
       "      <td>Agree<\/td>\n",
       "      <td>Agree<\/td>\n",
       "      <td>Agree<\/td>\n",
       "      <td>Agree<\/td>\n",
       "      <td>Agree<\/td>\n",
       "      <td>6-10 times a week<\/td>\n",
       "      <td>6-10 times a week<\/td>\n",
       "      <td>3-5 times a week<\/td>\n",
       "      <td>30-60 minutes a day<\/td>\n",
       "      <td>30-60 minutes a day<\/td>\n",
       "      <td>DevOps function;Microservices;Automated testin...<\/td>\n",
       "      <td>Information Services, IT, Software Development...<\/td>\n",
       "      <td>Appropriate in length<\/td>\n",
       "      <td>Easy<\/td>\n",
       "    <\/tr>\n",
       "    <tr>\n",
       "      <th>3<\/th>\n",
       "      <td>I agree<\/td>\n",
       "      <td>I am a developer by profession<\/td>\n",
       "      <td>25-34 years old<\/td>\n",
       "      <td>Employed, full-time<\/td>\n",
       "      <td>Hybrid (some remote, some in-person)<\/td>\n",
       "      <td>Hobby<\/td>\n",
       "      <td>Bachelor’s degree (B.A., B.S., B.Eng., etc.)<\/td>\n",
       "      <td>Colleague;Friend or family member;Other online...<\/td>\n",
       "      <td>Formal documentation provided by the owner of ...<\/td>\n",
       "      <td>NaN<\/td>\n",
       "      <td>12<\/td>\n",
       "      <td>7<\/td>\n",
       "      <td>Developer, front-end<\/td>\n",
       "      <td>100 to 499 employees<\/td>\n",
       "      <td>I have some influence<\/td>\n",
       "      <td>Investigate<\/td>\n",
       "      <td>Start a free trial;Ask developers I know\/work ...<\/td>\n",
       "      <td>United States of America<\/td>\n",
       "      <td>USD\\tUnited States dollar<\/td>\n",
       "      <td>Bash\/Shell (all shells);HTML\/CSS;JavaScript;PH...<\/td>\n",
       "      <td>Bash\/Shell (all shells);HTML\/CSS;JavaScript;Ru...<\/td>\n",
       "      <td>PostgreSQL;Redis<\/td>\n",
       "      <td>PostgreSQL;Redis<\/td>\n",
       "      <td>Cloudflare;Heroku<\/td>\n",
       "      <td>Cloudflare;Heroku<\/td>\n",
       "      <td>Node.js;React;Ruby on Rails;Vue.js;WordPress<\/td>\n",
       "      <td>Node.js;Ruby on Rails;Vue.js<\/td>\n",
       "      <td>NaN<\/td>\n",
       "      <td>NaN<\/td>\n",
       "      <td>Homebrew;npm;Vite;Webpack;Yarn<\/td>\n",
       "      <td>Homebrew;npm;Vite<\/td>\n",
       "      <td>IntelliJ IDEA;Vim;Visual Studio Code;WebStorm<\/td>\n",
       "      <td>IntelliJ IDEA;Vim;WebStorm<\/td>\n",
       "      <td>iOS;iPadOS;MacOS<\/td>\n",
       "      <td>iOS;iPadOS;MacOS<\/td>\n",
       "      <td>Jira<\/td>\n",
       "      <td>Jira<\/td>\n",
       "      <td>Discord;Google Meet;Microsoft Teams;Slack;Zoom<\/td>\n",
       "      <td>Discord;Google Meet;Slack;Zoom<\/td>\n",
       "      <td>NaN<\/td>\n",
       "      <td>NaN<\/td>\n",
       "      <td>NaN<\/td>\n",
       "      <td>NaN<\/td>\n",
       "      <td>Stack Overflow;Stack Exchange<\/td>\n",
       "      <td>A few times per week<\/td>\n",
       "      <td>Yes<\/td>\n",
       "      <td>Less than once per month or monthly<\/td>\n",
       "      <td>No, not really<\/td>\n",
       "      <td>I'm wearing of Stack Overflow using AI.<\/td>\n",
       "      <td>No, and I don't plan to<\/td>\n",
       "      <td>NaN<\/td>\n",
       "      <td>NaN<\/td>\n",
       "      <td>NaN<\/td>\n",
       "      <td>NaN<\/td>\n",
       "      <td>NaN<\/td>\n",
       "      <td>NaN<\/td>\n",
       "      <td>NaN<\/td>\n",
       "      <td>NaN<\/td>\n",
       "      <td>NaN<\/td>\n",
       "      <td>NaN<\/td>\n",
       "      <td>NaN<\/td>\n",
       "      <td>Yes<\/td>\n",
       "      <td>Individual contributor<\/td>\n",
       "      <td>Strongly agree<\/td>\n",
       "      <td>Strongly disagree<\/td>\n",
       "      <td>Strongly agree<\/td>\n",
       "      <td>Strongly agree<\/td>\n",
       "      <td>Agree<\/td>\n",
       "      <td>Neither agree nor disagree<\/td>\n",
       "      <td>Agree<\/td>\n",
       "      <td>Agree<\/td>\n",
       "      <td>1-2 times a week<\/td>\n",
       "      <td>10+ times a week<\/td>\n",
       "      <td>1-2 times a week<\/td>\n",
       "      <td>15-30 minutes a day<\/td>\n",
       "      <td>30-60 minutes a day<\/td>\n",
       "      <td>Automated testing;Continuous integration (CI) ...<\/td>\n",
       "      <td>NaN<\/td>\n",
       "      <td>Appropriate in length<\/td>\n",
       "      <td>Easy<\/td>\n",
       "    <\/tr>\n",
       "    <tr>\n",
       "      <th>4<\/th>\n",
       "      <td>I agree<\/td>\n",
       "      <td>I am a developer by profession<\/td>\n",
       "      <td>25-34 years old<\/td>\n",
       "      <td>Employed, full-time;Independent contractor, fr...<\/td>\n",
       "      <td>Remote<\/td>\n",
       "      <td>Hobby;Contribute to open-source projects;Profe...<\/td>\n",
       "      <td>Bachelor’s degree (B.A., B.S., B.Eng., etc.)<\/td>\n",
       "      <td>Books \/ Physical media;Online Courses or Certi...<\/td>\n",
       "      <td>Formal documentation provided by the owner of ...<\/td>\n",
       "      <td>Other;Codecademy;edX<\/td>\n",
       "      <td>6<\/td>\n",
       "      <td>4<\/td>\n",
       "      <td>Developer, full-stack<\/td>\n",
       "      <td>20 to 99 employees<\/td>\n",
       "      <td>I have some influence<\/td>\n",
       "      <td>Investigate<\/td>\n",
       "      <td>Start a free trial;Ask developers I know\/work ...<\/td>\n",
       "      <td>Philippines<\/td>\n",
       "      <td>PHP\\tPhilippine peso<\/td>\n",
       "      <td>HTML\/CSS;JavaScript;TypeScript<\/td>\n",
       "      <td>HTML\/CSS;JavaScript;Python;Rust;TypeScript<\/td>\n",
       "      <td>BigQuery;Elasticsearch;MongoDB;PostgreSQL<\/td>\n",
       "      <td>Elasticsearch;MongoDB;PostgreSQL;Redis;Supabase<\/td>\n",
       "      <td>Amazon Web Services (AWS);Firebase;Heroku;Netl...<\/td>\n",
       "      <td>Amazon Web Services (AWS);Cloudflare;Digital O...<\/td>\n",
       "      <td>Express;Gatsby;NestJS;Next.js;Node.js;React<\/td>\n",
       "      <td>Express;NestJS;Next.js;Node.js;React;Remix;Vue.js<\/td>\n",
       "      <td>NaN<\/td>\n",
       "      <td>NaN<\/td>\n",
       "      <td>Docker;npm;Webpack;Yarn<\/td>\n",
       "      <td>Docker;npm;Yarn<\/td>\n",
       "      <td>Vim;Visual Studio Code<\/td>\n",
       "      <td>Vim;Visual Studio Code<\/td>\n",
       "      <td>Other (Please Specify):<\/td>\n",
       "      <td>Other (Please Specify):<\/td>\n",
       "      <td>Confluence;Jira;Notion<\/td>\n",
       "      <td>Confluence;Jira;Notion<\/td>\n",
       "      <td>Discord;Google Meet;Slack;Zoom<\/td>\n",
       "      <td>Discord;Google Meet;Slack;Zoom<\/td>\n",
       "      <td>ChatGPT<\/td>\n",
       "      <td>ChatGPT<\/td>\n",
       "      <td>NaN<\/td>\n",
       "      <td>NaN<\/td>\n",
       "      <td>Stack Overflow;Stack Exchange<\/td>\n",
       "      <td>A few times per week<\/td>\n",
       "      <td>No<\/td>\n",
       "      <td>NaN<\/td>\n",
       "      <td>Neutral<\/td>\n",
       "      <td>Using AI to suggest better answer to my questi...<\/td>\n",
       "      <td>Yes<\/td>\n",
       "      <td>Very favorable<\/td>\n",
       "      <td>Increase productivity;Greater efficiency;Speed...<\/td>\n",
       "      <td>Somewhat trust<\/td>\n",
       "      <td>Project planning;Testing code;Committing and r...<\/td>\n",
       "      <td>Learning about a codebase;Writing code;Documen...<\/td>\n",
       "      <td>NaN<\/td>\n",
       "      <td>NaN<\/td>\n",
       "      <td>NaN<\/td>\n",
       "      <td>NaN<\/td>\n",
       "      <td>NaN<\/td>\n",
       "      <td>NaN<\/td>\n",
       "      <td>Yes<\/td>\n",
       "      <td>Individual contributor<\/td>\n",
       "      <td>Agree<\/td>\n",
       "      <td>Strongly agree<\/td>\n",
       "      <td>Agree<\/td>\n",
       "      <td>Agree<\/td>\n",
       "      <td>Neither agree nor disagree<\/td>\n",
       "      <td>Agree<\/td>\n",
       "      <td>Strongly agree<\/td>\n",
       "      <td>Agree<\/td>\n",
       "      <td>1-2 times a week<\/td>\n",
       "      <td>1-2 times a week<\/td>\n",
       "      <td>3-5 times a week<\/td>\n",
       "      <td>60-120 minutes a day<\/td>\n",
       "      <td>30-60 minutes a day<\/td>\n",
       "      <td>Microservices;Automated testing;Observability ...<\/td>\n",
       "      <td>Other<\/td>\n",
       "      <td>Appropriate in length<\/td>\n",
       "      <td>Neither easy nor difficult<\/td>\n",
       "    <\/tr>\n",
       "  <\/tbody>\n",
       "<\/table>\n",
       "<\/div>"
      ]
     },
     "metadata":{},
     "output_type":"display_data"
    }
   ],
   "metadata":{
    "datalore":{
     "node_id":"e7BLVf4tFdVtkHIMCiWCLO",
     "type":"CODE",
     "hide_input_from_viewers":true,
     "hide_output_from_viewers":true
    }
   }
  },
  {
   "cell_type":"code",
   "source":[
    "df.info()"
   ],
   "execution_count":8,
   "outputs":[
    {
     "name":"stdout",
     "text":[
      "<class 'pandas.core.frame.DataFrame'>\n",
      "RangeIndex: 89184 entries, 0 to 89183\n",
      "Data columns (total 84 columns):\n",
      " #   Column                               Non-Null Count  Dtype  \n",
      "---  ------                               --------------  -----  \n",
      " 0   ResponseId                           89184 non-null  int64  \n",
      " 1   Q120                                 89184 non-null  object \n",
      " 2   MainBranch                           89184 non-null  object \n",
      " 3   Age                                  89184 non-null  object \n",
      " 4   Employment                           87898 non-null  object \n",
      " 5   RemoteWork                           73810 non-null  object \n",
      " 6   CodingActivities                     73764 non-null  object \n",
      " 7   EdLevel                              87973 non-null  object \n",
      " 8   LearnCode                            87663 non-null  object \n",
      " 9   LearnCodeOnline                      70084 non-null  object \n",
      " 10  LearnCodeCoursesCert                 37076 non-null  object \n",
      " 11  YearsCode                            87435 non-null  object \n",
      " 12  YearsCodePro                         66136 non-null  object \n",
      " 13  DevType                              76872 non-null  object \n",
      " 14  OrgSize                              65043 non-null  object \n",
      " 15  PurchaseInfluence                    64964 non-null  object \n",
      " 16  TechList                             60851 non-null  object \n",
      " 17  BuyNewTool                           83009 non-null  object \n",
      " 18  Country                              87973 non-null  object \n",
      " 19  Currency                             65334 non-null  object \n",
      " 20  CompTotal                            48225 non-null  float64\n",
      " 21  LanguageHaveWorkedWith               87140 non-null  object \n",
      " 22  LanguageWantToWorkWith               80709 non-null  object \n",
      " 23  DatabaseHaveWorkedWith               73435 non-null  object \n",
      " 24  DatabaseWantToWorkWith               60911 non-null  object \n",
      " 25  PlatformHaveWorkedWith               63628 non-null  object \n",
      " 26  PlatformWantToWorkWith               51308 non-null  object \n",
      " 27  WebframeHaveWorkedWith               66938 non-null  object \n",
      " 28  WebframeWantToWorkWith               56741 non-null  object \n",
      " 29  MiscTechHaveWorkedWith               57019 non-null  object \n",
      " 30  MiscTechWantToWorkWith               46848 non-null  object \n",
      " 31  ToolsTechHaveWorkedWith              77884 non-null  object \n",
      " 32  ToolsTechWantToWorkWith              68315 non-null  object \n",
      " 33  NEWCollabToolsHaveWorkedWith         85864 non-null  object \n",
      " 34  NEWCollabToolsWantToWorkWith         76649 non-null  object \n",
      " 35  OpSysPersonal use                    86557 non-null  object \n",
      " 36  OpSysProfessional use                78587 non-null  object \n",
      " 37  OfficeStackAsyncHaveWorkedWith       69090 non-null  object \n",
      " 38  OfficeStackAsyncWantToWorkWith       53743 non-null  object \n",
      " 39  OfficeStackSyncHaveWorkedWith        83439 non-null  object \n",
      " 40  OfficeStackSyncWantToWorkWith        69776 non-null  object \n",
      " 41  AISearchHaveWorkedWith               56328 non-null  object \n",
      " 42  AISearchWantToWorkWith               46150 non-null  object \n",
      " 43  AIDevHaveWorkedWith                  25904 non-null  object \n",
      " 44  AIDevWantToWorkWith                  19587 non-null  object \n",
      " 45  NEWSOSites                           87973 non-null  object \n",
      " 46  SOVisitFreq                          87140 non-null  object \n",
      " 47  SOAccount                            87852 non-null  object \n",
      " 48  SOPartFreq                           66061 non-null  object \n",
      " 49  SOComm                               87692 non-null  object \n",
      " 50  SOAI                                 47858 non-null  object \n",
      " 51  AISelect                             87973 non-null  object \n",
      " 52  AISent                               61501 non-null  object \n",
      " 53  AIAcc                                38594 non-null  object \n",
      " 54  AIBen                                61396 non-null  object \n",
      " 55  AIToolInterested in Using            32783 non-null  object \n",
      " 56  AIToolCurrently Using                36137 non-null  object \n",
      " 57  AIToolNot interested in Using        21069 non-null  object \n",
      " 58  AINextVery different                 12661 non-null  object \n",
      " 59  AINextNeither different nor similar  6599 non-null   object \n",
      " 60  AINextSomewhat similar               6238 non-null   object \n",
      " 61  AINextVery similar                   2621 non-null   object \n",
      " 62  AINextSomewhat different             23303 non-null  object \n",
      " 63  TBranch                              65768 non-null  object \n",
      " 64  ICorPM                               43668 non-null  object \n",
      " 65  WorkExp                              43579 non-null  float64\n",
      " 66  Knowledge_1                          42535 non-null  object \n",
      " 67  Knowledge_2                          41670 non-null  object \n",
      " 68  Knowledge_3                          41798 non-null  object \n",
      " 69  Knowledge_4                          41684 non-null  object \n",
      " 70  Knowledge_5                          41527 non-null  object \n",
      " 71  Knowledge_6                          41520 non-null  object \n",
      " 72  Knowledge_7                          41467 non-null  object \n",
      " 73  Knowledge_8                          41404 non-null  object \n",
      " 74  Frequency_1                          41916 non-null  object \n",
      " 75  Frequency_2                          41925 non-null  object \n",
      " 76  Frequency_3                          41054 non-null  object \n",
      " 77  TimeSearching                        42778 non-null  object \n",
      " 78  TimeAnswering                        42629 non-null  object \n",
      " 79  ProfessionalTech                     41783 non-null  object \n",
      " 80  Industry                             36774 non-null  object \n",
      " 81  SurveyLength                         86485 non-null  object \n",
      " 82  SurveyEase                           86554 non-null  object \n",
      " 83  ConvertedCompYearly                  48019 non-null  float64\n",
      "dtypes: float64(3), int64(1), object(80)\n",
      "memory usage: 57.2+ MB\n"
     ],
     "output_type":"stream"
    }
   ],
   "metadata":{
    "datalore":{
     "node_id":"d80aKqgIGZrtxgOuM1CuH8",
     "type":"CODE",
     "hide_input_from_viewers":true,
     "hide_output_from_viewers":true
    }
   }
  },
  {
   "cell_type":"code",
   "source":[
    "df.isnull().sum()"
   ],
   "execution_count":15,
   "outputs":[
    {
     "data":{
      "text\/html":[
       "<pre>ResponseId                 0\n",
       "Q120                       0\n",
       "MainBranch                 0\n",
       "Age                        0\n",
       "Employment              1286\n",
       "                       ...  \n",
       "ProfessionalTech       47401\n",
       "Industry               52410\n",
       "SurveyLength            2699\n",
       "SurveyEase              2630\n",
       "ConvertedCompYearly    41165\n",
       "Length: 84, dtype: int64<\/pre>"
      ]
     },
     "metadata":{},
     "output_type":"display_data"
    }
   ],
   "metadata":{
    "datalore":{
     "node_id":"zUYHd5QpgvzZ9524jUmyRM",
     "type":"CODE",
     "hide_input_from_viewers":true,
     "hide_output_from_viewers":true
    }
   }
  },
  {
   "cell_type":"code",
   "source":[
    "#To elimate all those rows with null values above\n",
    "#df_cleaned = df.dropna()"
   ],
   "execution_count":null,
   "outputs":[],
   "metadata":{
    "datalore":{
     "node_id":"7Gi37YqKwOCWj13cAdNKqH",
     "type":"CODE",
     "hide_input_from_viewers":true,
     "hide_output_from_viewers":true
    }
   }
  },
  {
   "cell_type":"code",
   "source":[
    "columns = list(df.columns)"
   ],
   "execution_count":12,
   "outputs":[],
   "metadata":{
    "datalore":{
     "node_id":"uFe8wNMv2ZScZ5pKVMsubK",
     "type":"CODE",
     "hide_input_from_viewers":true,
     "hide_output_from_viewers":true
    }
   }
  },
  {
   "cell_type":"code",
   "source":[
    "df.duplicated().sum()"
   ],
   "execution_count":13,
   "outputs":[
    {
     "data":{
      "text\/plain":[
       "1203"
      ]
     },
     "metadata":{},
     "output_type":"display_data"
    }
   ],
   "metadata":{
    "datalore":{
     "node_id":"ucH6jqNtUqKV7mTE3VNLVY",
     "type":"CODE",
     "hide_input_from_viewers":true,
     "hide_output_from_viewers":true
    }
   }
  },
  {
   "cell_type":"code",
   "source":[
    "\n",
    "\n",
    "df[df.duplicated()]"
   ],
   "execution_count":14,
   "outputs":[
    {
     "data":{
      "text\/html":[
       "<div>\n",
       "<style scoped>\n",
       "    .dataframe tbody tr th:only-of-type {\n",
       "        vertical-align: middle;\n",
       "    }\n",
       "\n",
       "    .dataframe tbody tr th {\n",
       "        vertical-align: top;\n",
       "    }\n",
       "\n",
       "    .dataframe thead th {\n",
       "        text-align: right;\n",
       "    }\n",
       "<\/style>\n",
       "<table border=\"1\" class=\"dataframe\">\n",
       "  <thead>\n",
       "    <tr style=\"text-align: right;\">\n",
       "      <th><\/th>\n",
       "      <th>MainBranch<\/th>\n",
       "      <th>Age<\/th>\n",
       "      <th>Employment<\/th>\n",
       "      <th>RemoteWork<\/th>\n",
       "      <th>CodingActivities<\/th>\n",
       "      <th>EdLevel<\/th>\n",
       "      <th>LearnCode<\/th>\n",
       "      <th>LearnCodeOnline<\/th>\n",
       "      <th>LearnCodeCoursesCert<\/th>\n",
       "      <th>YearsCode<\/th>\n",
       "      <th>YearsCodePro<\/th>\n",
       "      <th>DevType<\/th>\n",
       "      <th>OrgSize<\/th>\n",
       "      <th>PurchaseInfluence<\/th>\n",
       "      <th>TechList<\/th>\n",
       "      <th>BuyNewTool<\/th>\n",
       "      <th>Country<\/th>\n",
       "      <th>Currency<\/th>\n",
       "      <th>CompTotal<\/th>\n",
       "      <th>LanguageHaveWorkedWith<\/th>\n",
       "      <th>LanguageWantToWorkWith<\/th>\n",
       "      <th>DatabaseHaveWorkedWith<\/th>\n",
       "      <th>DatabaseWantToWorkWith<\/th>\n",
       "      <th>PlatformHaveWorkedWith<\/th>\n",
       "      <th>PlatformWantToWorkWith<\/th>\n",
       "      <th>WebframeHaveWorkedWith<\/th>\n",
       "      <th>WebframeWantToWorkWith<\/th>\n",
       "      <th>MiscTechHaveWorkedWith<\/th>\n",
       "      <th>MiscTechWantToWorkWith<\/th>\n",
       "      <th>ToolsTechHaveWorkedWith<\/th>\n",
       "      <th>ToolsTechWantToWorkWith<\/th>\n",
       "      <th>NEWCollabToolsHaveWorkedWith<\/th>\n",
       "      <th>NEWCollabToolsWantToWorkWith<\/th>\n",
       "      <th>OpSysPersonal use<\/th>\n",
       "      <th>OpSysProfessional use<\/th>\n",
       "      <th>OfficeStackAsyncHaveWorkedWith<\/th>\n",
       "      <th>OfficeStackAsyncWantToWorkWith<\/th>\n",
       "      <th>OfficeStackSyncHaveWorkedWith<\/th>\n",
       "      <th>OfficeStackSyncWantToWorkWith<\/th>\n",
       "      <th>AISearchHaveWorkedWith<\/th>\n",
       "      <th>AISearchWantToWorkWith<\/th>\n",
       "      <th>AIDevHaveWorkedWith<\/th>\n",
       "      <th>AIDevWantToWorkWith<\/th>\n",
       "      <th>NEWSOSites<\/th>\n",
       "      <th>SOVisitFreq<\/th>\n",
       "      <th>SOAccount<\/th>\n",
       "      <th>SOPartFreq<\/th>\n",
       "      <th>SOComm<\/th>\n",
       "      <th>SOAI<\/th>\n",
       "      <th>AISelect<\/th>\n",
       "      <th>AISent<\/th>\n",
       "      <th>AIAcc<\/th>\n",
       "      <th>AIBen<\/th>\n",
       "      <th>AIToolInterested in Using<\/th>\n",
       "      <th>AIToolCurrently Using<\/th>\n",
       "      <th>AIToolNot interested in Using<\/th>\n",
       "      <th>AINextVery different<\/th>\n",
       "      <th>AINextNeither different nor similar<\/th>\n",
       "      <th>AINextSomewhat similar<\/th>\n",
       "      <th>AINextVery similar<\/th>\n",
       "      <th>AINextSomewhat different<\/th>\n",
       "      <th>TBranch<\/th>\n",
       "      <th>ICorPM<\/th>\n",
       "      <th>WorkExp<\/th>\n",
       "      <th>Knowledge_1<\/th>\n",
       "      <th>Knowledge_2<\/th>\n",
       "      <th>Knowledge_3<\/th>\n",
       "      <th>Knowledge_4<\/th>\n",
       "      <th>Knowledge_5<\/th>\n",
       "      <th>Knowledge_6<\/th>\n",
       "      <th>Knowledge_7<\/th>\n",
       "      <th>Knowledge_8<\/th>\n",
       "      <th>Frequency_1<\/th>\n",
       "      <th>Frequency_2<\/th>\n",
       "      <th>Frequency_3<\/th>\n",
       "      <th>TimeSearching<\/th>\n",
       "      <th>TimeAnswering<\/th>\n",
       "      <th>ProfessionalTech<\/th>\n",
       "      <th>Industry<\/th>\n",
       "      <th>SurveyLength<\/th>\n",
       "      <th>SurveyEase<\/th>\n",
       "      <th>ConvertedCompYearly<\/th>\n",
       "    <\/tr>\n",
       "    <tr>\n",
       "      <th>ResponseId<\/th>\n",
       "      <th><\/th>\n",
       "      <th><\/th>\n",
       "      <th><\/th>\n",
       "      <th><\/th>\n",
       "      <th><\/th>\n",
       "      <th><\/th>\n",
       "      <th><\/th>\n",
       "      <th><\/th>\n",
       "      <th><\/th>\n",
       "      <th><\/th>\n",
       "      <th><\/th>\n",
       "      <th><\/th>\n",
       "      <th><\/th>\n",
       "      <th><\/th>\n",
       "      <th><\/th>\n",
       "      <th><\/th>\n",
       "      <th><\/th>\n",
       "      <th><\/th>\n",
       "      <th><\/th>\n",
       "      <th><\/th>\n",
       "      <th><\/th>\n",
       "      <th><\/th>\n",
       "      <th><\/th>\n",
       "      <th><\/th>\n",
       "      <th><\/th>\n",
       "      <th><\/th>\n",
       "      <th><\/th>\n",
       "      <th><\/th>\n",
       "      <th><\/th>\n",
       "      <th><\/th>\n",
       "      <th><\/th>\n",
       "      <th><\/th>\n",
       "      <th><\/th>\n",
       "      <th><\/th>\n",
       "      <th><\/th>\n",
       "      <th><\/th>\n",
       "      <th><\/th>\n",
       "      <th><\/th>\n",
       "      <th><\/th>\n",
       "      <th><\/th>\n",
       "      <th><\/th>\n",
       "      <th><\/th>\n",
       "      <th><\/th>\n",
       "      <th><\/th>\n",
       "      <th><\/th>\n",
       "      <th><\/th>\n",
       "      <th><\/th>\n",
       "      <th><\/th>\n",
       "      <th><\/th>\n",
       "      <th><\/th>\n",
       "      <th><\/th>\n",
       "      <th><\/th>\n",
       "      <th><\/th>\n",
       "      <th><\/th>\n",
       "      <th><\/th>\n",
       "      <th><\/th>\n",
       "      <th><\/th>\n",
       "      <th><\/th>\n",
       "      <th><\/th>\n",
       "      <th><\/th>\n",
       "      <th><\/th>\n",
       "      <th><\/th>\n",
       "      <th><\/th>\n",
       "      <th><\/th>\n",
       "      <th><\/th>\n",
       "      <th><\/th>\n",
       "      <th><\/th>\n",
       "      <th><\/th>\n",
       "      <th><\/th>\n",
       "      <th><\/th>\n",
       "      <th><\/th>\n",
       "      <th><\/th>\n",
       "      <th><\/th>\n",
       "      <th><\/th>\n",
       "      <th><\/th>\n",
       "      <th><\/th>\n",
       "      <th><\/th>\n",
       "      <th><\/th>\n",
       "      <th><\/th>\n",
       "      <th><\/th>\n",
       "      <th><\/th>\n",
       "      <th><\/th>\n",
       "    <\/tr>\n",
       "  <\/thead>\n",
       "  <tbody>\n",
       "    <tr>\n",
       "      <th>305<\/th>\n",
       "      <td>None of these<\/td>\n",
       "      <td>18-24 years old<\/td>\n",
       "      <td>NaN<\/td>\n",
       "      <td>NaN<\/td>\n",
       "      <td>NaN<\/td>\n",
       "      <td>NaN<\/td>\n",
       "      <td>NaN<\/td>\n",
       "      <td>NaN<\/td>\n",
       "      <td>NaN<\/td>\n",
       "      <td>NaN<\/td>\n",
       "      <td>NaN<\/td>\n",
       "      <td>NaN<\/td>\n",
       "      <td>NaN<\/td>\n",
       "      <td>NaN<\/td>\n",
       "      <td>NaN<\/td>\n",
       "      <td>NaN<\/td>\n",
       "      <td>NaN<\/td>\n",
       "      <td>NaN<\/td>\n",
       "      <td>NaN<\/td>\n",
       "      <td>NaN<\/td>\n",
       "      <td>NaN<\/td>\n",
       "      <td>NaN<\/td>\n",
       "      <td>NaN<\/td>\n",
       "      <td>NaN<\/td>\n",
       "      <td>NaN<\/td>\n",
       "      <td>NaN<\/td>\n",
       "      <td>NaN<\/td>\n",
       "      <td>NaN<\/td>\n",
       "      <td>NaN<\/td>\n",
       "      <td>NaN<\/td>\n",
       "      <td>NaN<\/td>\n",
       "      <td>NaN<\/td>\n",
       "      <td>NaN<\/td>\n",
       "      <td>NaN<\/td>\n",
       "      <td>NaN<\/td>\n",
       "      <td>NaN<\/td>\n",
       "      <td>NaN<\/td>\n",
       "      <td>NaN<\/td>\n",
       "      <td>NaN<\/td>\n",
       "      <td>NaN<\/td>\n",
       "      <td>NaN<\/td>\n",
       "      <td>NaN<\/td>\n",
       "      <td>NaN<\/td>\n",
       "      <td>NaN<\/td>\n",
       "      <td>NaN<\/td>\n",
       "      <td>NaN<\/td>\n",
       "      <td>NaN<\/td>\n",
       "      <td>NaN<\/td>\n",
       "      <td>NaN<\/td>\n",
       "      <td>NaN<\/td>\n",
       "      <td>NaN<\/td>\n",
       "      <td>NaN<\/td>\n",
       "      <td>NaN<\/td>\n",
       "      <td>NaN<\/td>\n",
       "      <td>NaN<\/td>\n",
       "      <td>NaN<\/td>\n",
       "      <td>NaN<\/td>\n",
       "      <td>NaN<\/td>\n",
       "      <td>NaN<\/td>\n",
       "      <td>NaN<\/td>\n",
       "      <td>NaN<\/td>\n",
       "      <td>NaN<\/td>\n",
       "      <td>NaN<\/td>\n",
       "      <td>NaN<\/td>\n",
       "      <td>NaN<\/td>\n",
       "      <td>NaN<\/td>\n",
       "      <td>NaN<\/td>\n",
       "      <td>NaN<\/td>\n",
       "      <td>NaN<\/td>\n",
       "      <td>NaN<\/td>\n",
       "      <td>NaN<\/td>\n",
       "      <td>NaN<\/td>\n",
       "      <td>NaN<\/td>\n",
       "      <td>NaN<\/td>\n",
       "      <td>NaN<\/td>\n",
       "      <td>NaN<\/td>\n",
       "      <td>NaN<\/td>\n",
       "      <td>NaN<\/td>\n",
       "      <td>NaN<\/td>\n",
       "      <td>NaN<\/td>\n",
       "      <td>NaN<\/td>\n",
       "      <td>NaN<\/td>\n",
       "    <\/tr>\n",
       "    <tr>\n",
       "      <th>734<\/th>\n",
       "      <td>None of these<\/td>\n",
       "      <td>45-54 years old<\/td>\n",
       "      <td>NaN<\/td>\n",
       "      <td>NaN<\/td>\n",
       "      <td>NaN<\/td>\n",
       "      <td>NaN<\/td>\n",
       "      <td>NaN<\/td>\n",
       "      <td>NaN<\/td>\n",
       "      <td>NaN<\/td>\n",
       "      <td>NaN<\/td>\n",
       "      <td>NaN<\/td>\n",
       "      <td>NaN<\/td>\n",
       "      <td>NaN<\/td>\n",
       "      <td>NaN<\/td>\n",
       "      <td>NaN<\/td>\n",
       "      <td>NaN<\/td>\n",
       "      <td>NaN<\/td>\n",
       "      <td>NaN<\/td>\n",
       "      <td>NaN<\/td>\n",
       "      <td>NaN<\/td>\n",
       "      <td>NaN<\/td>\n",
       "      <td>NaN<\/td>\n",
       "      <td>NaN<\/td>\n",
       "      <td>NaN<\/td>\n",
       "      <td>NaN<\/td>\n",
       "      <td>NaN<\/td>\n",
       "      <td>NaN<\/td>\n",
       "      <td>NaN<\/td>\n",
       "      <td>NaN<\/td>\n",
       "      <td>NaN<\/td>\n",
       "      <td>NaN<\/td>\n",
       "      <td>NaN<\/td>\n",
       "      <td>NaN<\/td>\n",
       "      <td>NaN<\/td>\n",
       "      <td>NaN<\/td>\n",
       "      <td>NaN<\/td>\n",
       "      <td>NaN<\/td>\n",
       "      <td>NaN<\/td>\n",
       "      <td>NaN<\/td>\n",
       "      <td>NaN<\/td>\n",
       "      <td>NaN<\/td>\n",
       "      <td>NaN<\/td>\n",
       "      <td>NaN<\/td>\n",
       "      <td>NaN<\/td>\n",
       "      <td>NaN<\/td>\n",
       "      <td>NaN<\/td>\n",
       "      <td>NaN<\/td>\n",
       "      <td>NaN<\/td>\n",
       "      <td>NaN<\/td>\n",
       "      <td>NaN<\/td>\n",
       "      <td>NaN<\/td>\n",
       "      <td>NaN<\/td>\n",
       "      <td>NaN<\/td>\n",
       "      <td>NaN<\/td>\n",
       "      <td>NaN<\/td>\n",
       "      <td>NaN<\/td>\n",
       "      <td>NaN<\/td>\n",
       "      <td>NaN<\/td>\n",
       "      <td>NaN<\/td>\n",
       "      <td>NaN<\/td>\n",
       "      <td>NaN<\/td>\n",
       "      <td>NaN<\/td>\n",
       "      <td>NaN<\/td>\n",
       "      <td>NaN<\/td>\n",
       "      <td>NaN<\/td>\n",
       "      <td>NaN<\/td>\n",
       "      <td>NaN<\/td>\n",
       "      <td>NaN<\/td>\n",
       "      <td>NaN<\/td>\n",
       "      <td>NaN<\/td>\n",
       "      <td>NaN<\/td>\n",
       "      <td>NaN<\/td>\n",
       "      <td>NaN<\/td>\n",
       "      <td>NaN<\/td>\n",
       "      <td>NaN<\/td>\n",
       "      <td>NaN<\/td>\n",
       "      <td>NaN<\/td>\n",
       "      <td>NaN<\/td>\n",
       "      <td>NaN<\/td>\n",
       "      <td>NaN<\/td>\n",
       "      <td>NaN<\/td>\n",
       "      <td>NaN<\/td>\n",
       "    <\/tr>\n",
       "    <tr>\n",
       "      <th>876<\/th>\n",
       "      <td>None of these<\/td>\n",
       "      <td>45-54 years old<\/td>\n",
       "      <td>NaN<\/td>\n",
       "      <td>NaN<\/td>\n",
       "      <td>NaN<\/td>\n",
       "      <td>NaN<\/td>\n",
       "      <td>NaN<\/td>\n",
       "      <td>NaN<\/td>\n",
       "      <td>NaN<\/td>\n",
       "      <td>NaN<\/td>\n",
       "      <td>NaN<\/td>\n",
       "      <td>NaN<\/td>\n",
       "      <td>NaN<\/td>\n",
       "      <td>NaN<\/td>\n",
       "      <td>NaN<\/td>\n",
       "      <td>NaN<\/td>\n",
       "      <td>NaN<\/td>\n",
       "      <td>NaN<\/td>\n",
       "      <td>NaN<\/td>\n",
       "      <td>NaN<\/td>\n",
       "      <td>NaN<\/td>\n",
       "      <td>NaN<\/td>\n",
       "      <td>NaN<\/td>\n",
       "      <td>NaN<\/td>\n",
       "      <td>NaN<\/td>\n",
       "      <td>NaN<\/td>\n",
       "      <td>NaN<\/td>\n",
       "      <td>NaN<\/td>\n",
       "      <td>NaN<\/td>\n",
       "      <td>NaN<\/td>\n",
       "      <td>NaN<\/td>\n",
       "      <td>NaN<\/td>\n",
       "      <td>NaN<\/td>\n",
       "      <td>NaN<\/td>\n",
       "      <td>NaN<\/td>\n",
       "      <td>NaN<\/td>\n",
       "      <td>NaN<\/td>\n",
       "      <td>NaN<\/td>\n",
       "      <td>NaN<\/td>\n",
       "      <td>NaN<\/td>\n",
       "      <td>NaN<\/td>\n",
       "      <td>NaN<\/td>\n",
       "      <td>NaN<\/td>\n",
       "      <td>NaN<\/td>\n",
       "      <td>NaN<\/td>\n",
       "      <td>NaN<\/td>\n",
       "      <td>NaN<\/td>\n",
       "      <td>NaN<\/td>\n",
       "      <td>NaN<\/td>\n",
       "      <td>NaN<\/td>\n",
       "      <td>NaN<\/td>\n",
       "      <td>NaN<\/td>\n",
       "      <td>NaN<\/td>\n",
       "      <td>NaN<\/td>\n",
       "      <td>NaN<\/td>\n",
       "      <td>NaN<\/td>\n",
       "      <td>NaN<\/td>\n",
       "      <td>NaN<\/td>\n",
       "      <td>NaN<\/td>\n",
       "      <td>NaN<\/td>\n",
       "      <td>NaN<\/td>\n",
       "      <td>NaN<\/td>\n",
       "      <td>NaN<\/td>\n",
       "      <td>NaN<\/td>\n",
       "      <td>NaN<\/td>\n",
       "      <td>NaN<\/td>\n",
       "      <td>NaN<\/td>\n",
       "      <td>NaN<\/td>\n",
       "      <td>NaN<\/td>\n",
       "      <td>NaN<\/td>\n",
       "      <td>NaN<\/td>\n",
       "      <td>NaN<\/td>\n",
       "      <td>NaN<\/td>\n",
       "      <td>NaN<\/td>\n",
       "      <td>NaN<\/td>\n",
       "      <td>NaN<\/td>\n",
       "      <td>NaN<\/td>\n",
       "      <td>NaN<\/td>\n",
       "      <td>NaN<\/td>\n",
       "      <td>NaN<\/td>\n",
       "      <td>NaN<\/td>\n",
       "      <td>NaN<\/td>\n",
       "    <\/tr>\n",
       "    <tr>\n",
       "      <th>915<\/th>\n",
       "      <td>None of these<\/td>\n",
       "      <td>18-24 years old<\/td>\n",
       "      <td>NaN<\/td>\n",
       "      <td>NaN<\/td>\n",
       "      <td>NaN<\/td>\n",
       "      <td>NaN<\/td>\n",
       "      <td>NaN<\/td>\n",
       "      <td>NaN<\/td>\n",
       "      <td>NaN<\/td>\n",
       "      <td>NaN<\/td>\n",
       "      <td>NaN<\/td>\n",
       "      <td>NaN<\/td>\n",
       "      <td>NaN<\/td>\n",
       "      <td>NaN<\/td>\n",
       "      <td>NaN<\/td>\n",
       "      <td>NaN<\/td>\n",
       "      <td>NaN<\/td>\n",
       "      <td>NaN<\/td>\n",
       "      <td>NaN<\/td>\n",
       "      <td>NaN<\/td>\n",
       "      <td>NaN<\/td>\n",
       "      <td>NaN<\/td>\n",
       "      <td>NaN<\/td>\n",
       "      <td>NaN<\/td>\n",
       "      <td>NaN<\/td>\n",
       "      <td>NaN<\/td>\n",
       "      <td>NaN<\/td>\n",
       "      <td>NaN<\/td>\n",
       "      <td>NaN<\/td>\n",
       "      <td>NaN<\/td>\n",
       "      <td>NaN<\/td>\n",
       "      <td>NaN<\/td>\n",
       "      <td>NaN<\/td>\n",
       "      <td>NaN<\/td>\n",
       "      <td>NaN<\/td>\n",
       "      <td>NaN<\/td>\n",
       "      <td>NaN<\/td>\n",
       "      <td>NaN<\/td>\n",
       "      <td>NaN<\/td>\n",
       "      <td>NaN<\/td>\n",
       "      <td>NaN<\/td>\n",
       "      <td>NaN<\/td>\n",
       "      <td>NaN<\/td>\n",
       "      <td>NaN<\/td>\n",
       "      <td>NaN<\/td>\n",
       "      <td>NaN<\/td>\n",
       "      <td>NaN<\/td>\n",
       "      <td>NaN<\/td>\n",
       "      <td>NaN<\/td>\n",
       "      <td>NaN<\/td>\n",
       "      <td>NaN<\/td>\n",
       "      <td>NaN<\/td>\n",
       "      <td>NaN<\/td>\n",
       "      <td>NaN<\/td>\n",
       "      <td>NaN<\/td>\n",
       "      <td>NaN<\/td>\n",
       "      <td>NaN<\/td>\n",
       "      <td>NaN<\/td>\n",
       "      <td>NaN<\/td>\n",
       "      <td>NaN<\/td>\n",
       "      <td>NaN<\/td>\n",
       "      <td>NaN<\/td>\n",
       "      <td>NaN<\/td>\n",
       "      <td>NaN<\/td>\n",
       "      <td>NaN<\/td>\n",
       "      <td>NaN<\/td>\n",
       "      <td>NaN<\/td>\n",
       "      <td>NaN<\/td>\n",
       "      <td>NaN<\/td>\n",
       "      <td>NaN<\/td>\n",
       "      <td>NaN<\/td>\n",
       "      <td>NaN<\/td>\n",
       "      <td>NaN<\/td>\n",
       "      <td>NaN<\/td>\n",
       "      <td>NaN<\/td>\n",
       "      <td>NaN<\/td>\n",
       "      <td>NaN<\/td>\n",
       "      <td>NaN<\/td>\n",
       "      <td>NaN<\/td>\n",
       "      <td>NaN<\/td>\n",
       "      <td>NaN<\/td>\n",
       "      <td>NaN<\/td>\n",
       "    <\/tr>\n",
       "    <tr>\n",
       "      <th>994<\/th>\n",
       "      <td>None of these<\/td>\n",
       "      <td>18-24 years old<\/td>\n",
       "      <td>NaN<\/td>\n",
       "      <td>NaN<\/td>\n",
       "      <td>NaN<\/td>\n",
       "      <td>NaN<\/td>\n",
       "      <td>NaN<\/td>\n",
       "      <td>NaN<\/td>\n",
       "      <td>NaN<\/td>\n",
       "      <td>NaN<\/td>\n",
       "      <td>NaN<\/td>\n",
       "      <td>NaN<\/td>\n",
       "      <td>NaN<\/td>\n",
       "      <td>NaN<\/td>\n",
       "      <td>NaN<\/td>\n",
       "      <td>NaN<\/td>\n",
       "      <td>NaN<\/td>\n",
       "      <td>NaN<\/td>\n",
       "      <td>NaN<\/td>\n",
       "      <td>NaN<\/td>\n",
       "      <td>NaN<\/td>\n",
       "      <td>NaN<\/td>\n",
       "      <td>NaN<\/td>\n",
       "      <td>NaN<\/td>\n",
       "      <td>NaN<\/td>\n",
       "      <td>NaN<\/td>\n",
       "      <td>NaN<\/td>\n",
       "      <td>NaN<\/td>\n",
       "      <td>NaN<\/td>\n",
       "      <td>NaN<\/td>\n",
       "      <td>NaN<\/td>\n",
       "      <td>NaN<\/td>\n",
       "      <td>NaN<\/td>\n",
       "      <td>NaN<\/td>\n",
       "      <td>NaN<\/td>\n",
       "      <td>NaN<\/td>\n",
       "      <td>NaN<\/td>\n",
       "      <td>NaN<\/td>\n",
       "      <td>NaN<\/td>\n",
       "      <td>NaN<\/td>\n",
       "      <td>NaN<\/td>\n",
       "      <td>NaN<\/td>\n",
       "      <td>NaN<\/td>\n",
       "      <td>NaN<\/td>\n",
       "      <td>NaN<\/td>\n",
       "      <td>NaN<\/td>\n",
       "      <td>NaN<\/td>\n",
       "      <td>NaN<\/td>\n",
       "      <td>NaN<\/td>\n",
       "      <td>NaN<\/td>\n",
       "      <td>NaN<\/td>\n",
       "      <td>NaN<\/td>\n",
       "      <td>NaN<\/td>\n",
       "      <td>NaN<\/td>\n",
       "      <td>NaN<\/td>\n",
       "      <td>NaN<\/td>\n",
       "      <td>NaN<\/td>\n",
       "      <td>NaN<\/td>\n",
       "      <td>NaN<\/td>\n",
       "      <td>NaN<\/td>\n",
       "      <td>NaN<\/td>\n",
       "      <td>NaN<\/td>\n",
       "      <td>NaN<\/td>\n",
       "      <td>NaN<\/td>\n",
       "      <td>NaN<\/td>\n",
       "      <td>NaN<\/td>\n",
       "      <td>NaN<\/td>\n",
       "      <td>NaN<\/td>\n",
       "      <td>NaN<\/td>\n",
       "      <td>NaN<\/td>\n",
       "      <td>NaN<\/td>\n",
       "      <td>NaN<\/td>\n",
       "      <td>NaN<\/td>\n",
       "      <td>NaN<\/td>\n",
       "      <td>NaN<\/td>\n",
       "      <td>NaN<\/td>\n",
       "      <td>NaN<\/td>\n",
       "      <td>NaN<\/td>\n",
       "      <td>NaN<\/td>\n",
       "      <td>NaN<\/td>\n",
       "      <td>NaN<\/td>\n",
       "      <td>NaN<\/td>\n",
       "    <\/tr>\n",
       "    <tr>\n",
       "      <th>...<\/th>\n",
       "      <td>...<\/td>\n",
       "      <td>...<\/td>\n",
       "      <td>...<\/td>\n",
       "      <td>...<\/td>\n",
       "      <td>...<\/td>\n",
       "      <td>...<\/td>\n",
       "      <td>...<\/td>\n",
       "      <td>...<\/td>\n",
       "      <td>...<\/td>\n",
       "      <td>...<\/td>\n",
       "      <td>...<\/td>\n",
       "      <td>...<\/td>\n",
       "      <td>...<\/td>\n",
       "      <td>...<\/td>\n",
       "      <td>...<\/td>\n",
       "      <td>...<\/td>\n",
       "      <td>...<\/td>\n",
       "      <td>...<\/td>\n",
       "      <td>...<\/td>\n",
       "      <td>...<\/td>\n",
       "      <td>...<\/td>\n",
       "      <td>...<\/td>\n",
       "      <td>...<\/td>\n",
       "      <td>...<\/td>\n",
       "      <td>...<\/td>\n",
       "      <td>...<\/td>\n",
       "      <td>...<\/td>\n",
       "      <td>...<\/td>\n",
       "      <td>...<\/td>\n",
       "      <td>...<\/td>\n",
       "      <td>...<\/td>\n",
       "      <td>...<\/td>\n",
       "      <td>...<\/td>\n",
       "      <td>...<\/td>\n",
       "      <td>...<\/td>\n",
       "      <td>...<\/td>\n",
       "      <td>...<\/td>\n",
       "      <td>...<\/td>\n",
       "      <td>...<\/td>\n",
       "      <td>...<\/td>\n",
       "      <td>...<\/td>\n",
       "      <td>...<\/td>\n",
       "      <td>...<\/td>\n",
       "      <td>...<\/td>\n",
       "      <td>...<\/td>\n",
       "      <td>...<\/td>\n",
       "      <td>...<\/td>\n",
       "      <td>...<\/td>\n",
       "      <td>...<\/td>\n",
       "      <td>...<\/td>\n",
       "      <td>...<\/td>\n",
       "      <td>...<\/td>\n",
       "      <td>...<\/td>\n",
       "      <td>...<\/td>\n",
       "      <td>...<\/td>\n",
       "      <td>...<\/td>\n",
       "      <td>...<\/td>\n",
       "      <td>...<\/td>\n",
       "      <td>...<\/td>\n",
       "      <td>...<\/td>\n",
       "      <td>...<\/td>\n",
       "      <td>...<\/td>\n",
       "      <td>...<\/td>\n",
       "      <td>...<\/td>\n",
       "      <td>...<\/td>\n",
       "      <td>...<\/td>\n",
       "      <td>...<\/td>\n",
       "      <td>...<\/td>\n",
       "      <td>...<\/td>\n",
       "      <td>...<\/td>\n",
       "      <td>...<\/td>\n",
       "      <td>...<\/td>\n",
       "      <td>...<\/td>\n",
       "      <td>...<\/td>\n",
       "      <td>...<\/td>\n",
       "      <td>...<\/td>\n",
       "      <td>...<\/td>\n",
       "      <td>...<\/td>\n",
       "      <td>...<\/td>\n",
       "      <td>...<\/td>\n",
       "      <td>...<\/td>\n",
       "      <td>...<\/td>\n",
       "    <\/tr>\n",
       "    <tr>\n",
       "      <th>88821<\/th>\n",
       "      <td>None of these<\/td>\n",
       "      <td>35-44 years old<\/td>\n",
       "      <td>NaN<\/td>\n",
       "      <td>NaN<\/td>\n",
       "      <td>NaN<\/td>\n",
       "      <td>NaN<\/td>\n",
       "      <td>NaN<\/td>\n",
       "      <td>NaN<\/td>\n",
       "      <td>NaN<\/td>\n",
       "      <td>NaN<\/td>\n",
       "      <td>NaN<\/td>\n",
       "      <td>NaN<\/td>\n",
       "      <td>NaN<\/td>\n",
       "      <td>NaN<\/td>\n",
       "      <td>NaN<\/td>\n",
       "      <td>NaN<\/td>\n",
       "      <td>NaN<\/td>\n",
       "      <td>NaN<\/td>\n",
       "      <td>NaN<\/td>\n",
       "      <td>NaN<\/td>\n",
       "      <td>NaN<\/td>\n",
       "      <td>NaN<\/td>\n",
       "      <td>NaN<\/td>\n",
       "      <td>NaN<\/td>\n",
       "      <td>NaN<\/td>\n",
       "      <td>NaN<\/td>\n",
       "      <td>NaN<\/td>\n",
       "      <td>NaN<\/td>\n",
       "      <td>NaN<\/td>\n",
       "      <td>NaN<\/td>\n",
       "      <td>NaN<\/td>\n",
       "      <td>NaN<\/td>\n",
       "      <td>NaN<\/td>\n",
       "      <td>NaN<\/td>\n",
       "      <td>NaN<\/td>\n",
       "      <td>NaN<\/td>\n",
       "      <td>NaN<\/td>\n",
       "      <td>NaN<\/td>\n",
       "      <td>NaN<\/td>\n",
       "      <td>NaN<\/td>\n",
       "      <td>NaN<\/td>\n",
       "      <td>NaN<\/td>\n",
       "      <td>NaN<\/td>\n",
       "      <td>NaN<\/td>\n",
       "      <td>NaN<\/td>\n",
       "      <td>NaN<\/td>\n",
       "      <td>NaN<\/td>\n",
       "      <td>NaN<\/td>\n",
       "      <td>NaN<\/td>\n",
       "      <td>NaN<\/td>\n",
       "      <td>NaN<\/td>\n",
       "      <td>NaN<\/td>\n",
       "      <td>NaN<\/td>\n",
       "      <td>NaN<\/td>\n",
       "      <td>NaN<\/td>\n",
       "      <td>NaN<\/td>\n",
       "      <td>NaN<\/td>\n",
       "      <td>NaN<\/td>\n",
       "      <td>NaN<\/td>\n",
       "      <td>NaN<\/td>\n",
       "      <td>NaN<\/td>\n",
       "      <td>NaN<\/td>\n",
       "      <td>NaN<\/td>\n",
       "      <td>NaN<\/td>\n",
       "      <td>NaN<\/td>\n",
       "      <td>NaN<\/td>\n",
       "      <td>NaN<\/td>\n",
       "      <td>NaN<\/td>\n",
       "      <td>NaN<\/td>\n",
       "      <td>NaN<\/td>\n",
       "      <td>NaN<\/td>\n",
       "      <td>NaN<\/td>\n",
       "      <td>NaN<\/td>\n",
       "      <td>NaN<\/td>\n",
       "      <td>NaN<\/td>\n",
       "      <td>NaN<\/td>\n",
       "      <td>NaN<\/td>\n",
       "      <td>NaN<\/td>\n",
       "      <td>NaN<\/td>\n",
       "      <td>NaN<\/td>\n",
       "      <td>NaN<\/td>\n",
       "      <td>NaN<\/td>\n",
       "    <\/tr>\n",
       "    <tr>\n",
       "      <th>88829<\/th>\n",
       "      <td>None of these<\/td>\n",
       "      <td>25-34 years old<\/td>\n",
       "      <td>NaN<\/td>\n",
       "      <td>NaN<\/td>\n",
       "      <td>NaN<\/td>\n",
       "      <td>NaN<\/td>\n",
       "      <td>NaN<\/td>\n",
       "      <td>NaN<\/td>\n",
       "      <td>NaN<\/td>\n",
       "      <td>NaN<\/td>\n",
       "      <td>NaN<\/td>\n",
       "      <td>NaN<\/td>\n",
       "      <td>NaN<\/td>\n",
       "      <td>NaN<\/td>\n",
       "      <td>NaN<\/td>\n",
       "      <td>NaN<\/td>\n",
       "      <td>NaN<\/td>\n",
       "      <td>NaN<\/td>\n",
       "      <td>NaN<\/td>\n",
       "      <td>NaN<\/td>\n",
       "      <td>NaN<\/td>\n",
       "      <td>NaN<\/td>\n",
       "      <td>NaN<\/td>\n",
       "      <td>NaN<\/td>\n",
       "      <td>NaN<\/td>\n",
       "      <td>NaN<\/td>\n",
       "      <td>NaN<\/td>\n",
       "      <td>NaN<\/td>\n",
       "      <td>NaN<\/td>\n",
       "      <td>NaN<\/td>\n",
       "      <td>NaN<\/td>\n",
       "      <td>NaN<\/td>\n",
       "      <td>NaN<\/td>\n",
       "      <td>NaN<\/td>\n",
       "      <td>NaN<\/td>\n",
       "      <td>NaN<\/td>\n",
       "      <td>NaN<\/td>\n",
       "      <td>NaN<\/td>\n",
       "      <td>NaN<\/td>\n",
       "      <td>NaN<\/td>\n",
       "      <td>NaN<\/td>\n",
       "      <td>NaN<\/td>\n",
       "      <td>NaN<\/td>\n",
       "      <td>NaN<\/td>\n",
       "      <td>NaN<\/td>\n",
       "      <td>NaN<\/td>\n",
       "      <td>NaN<\/td>\n",
       "      <td>NaN<\/td>\n",
       "      <td>NaN<\/td>\n",
       "      <td>NaN<\/td>\n",
       "      <td>NaN<\/td>\n",
       "      <td>NaN<\/td>\n",
       "      <td>NaN<\/td>\n",
       "      <td>NaN<\/td>\n",
       "      <td>NaN<\/td>\n",
       "      <td>NaN<\/td>\n",
       "      <td>NaN<\/td>\n",
       "      <td>NaN<\/td>\n",
       "      <td>NaN<\/td>\n",
       "      <td>NaN<\/td>\n",
       "      <td>NaN<\/td>\n",
       "      <td>NaN<\/td>\n",
       "      <td>NaN<\/td>\n",
       "      <td>NaN<\/td>\n",
       "      <td>NaN<\/td>\n",
       "      <td>NaN<\/td>\n",
       "      <td>NaN<\/td>\n",
       "      <td>NaN<\/td>\n",
       "      <td>NaN<\/td>\n",
       "      <td>NaN<\/td>\n",
       "      <td>NaN<\/td>\n",
       "      <td>NaN<\/td>\n",
       "      <td>NaN<\/td>\n",
       "      <td>NaN<\/td>\n",
       "      <td>NaN<\/td>\n",
       "      <td>NaN<\/td>\n",
       "      <td>NaN<\/td>\n",
       "      <td>NaN<\/td>\n",
       "      <td>NaN<\/td>\n",
       "      <td>NaN<\/td>\n",
       "      <td>NaN<\/td>\n",
       "      <td>NaN<\/td>\n",
       "    <\/tr>\n",
       "    <tr>\n",
       "      <th>88831<\/th>\n",
       "      <td>None of these<\/td>\n",
       "      <td>18-24 years old<\/td>\n",
       "      <td>NaN<\/td>\n",
       "      <td>NaN<\/td>\n",
       "      <td>NaN<\/td>\n",
       "      <td>NaN<\/td>\n",
       "      <td>NaN<\/td>\n",
       "      <td>NaN<\/td>\n",
       "      <td>NaN<\/td>\n",
       "      <td>NaN<\/td>\n",
       "      <td>NaN<\/td>\n",
       "      <td>NaN<\/td>\n",
       "      <td>NaN<\/td>\n",
       "      <td>NaN<\/td>\n",
       "      <td>NaN<\/td>\n",
       "      <td>NaN<\/td>\n",
       "      <td>NaN<\/td>\n",
       "      <td>NaN<\/td>\n",
       "      <td>NaN<\/td>\n",
       "      <td>NaN<\/td>\n",
       "      <td>NaN<\/td>\n",
       "      <td>NaN<\/td>\n",
       "      <td>NaN<\/td>\n",
       "      <td>NaN<\/td>\n",
       "      <td>NaN<\/td>\n",
       "      <td>NaN<\/td>\n",
       "      <td>NaN<\/td>\n",
       "      <td>NaN<\/td>\n",
       "      <td>NaN<\/td>\n",
       "      <td>NaN<\/td>\n",
       "      <td>NaN<\/td>\n",
       "      <td>NaN<\/td>\n",
       "      <td>NaN<\/td>\n",
       "      <td>NaN<\/td>\n",
       "      <td>NaN<\/td>\n",
       "      <td>NaN<\/td>\n",
       "      <td>NaN<\/td>\n",
       "      <td>NaN<\/td>\n",
       "      <td>NaN<\/td>\n",
       "      <td>NaN<\/td>\n",
       "      <td>NaN<\/td>\n",
       "      <td>NaN<\/td>\n",
       "      <td>NaN<\/td>\n",
       "      <td>NaN<\/td>\n",
       "      <td>NaN<\/td>\n",
       "      <td>NaN<\/td>\n",
       "      <td>NaN<\/td>\n",
       "      <td>NaN<\/td>\n",
       "      <td>NaN<\/td>\n",
       "      <td>NaN<\/td>\n",
       "      <td>NaN<\/td>\n",
       "      <td>NaN<\/td>\n",
       "      <td>NaN<\/td>\n",
       "      <td>NaN<\/td>\n",
       "      <td>NaN<\/td>\n",
       "      <td>NaN<\/td>\n",
       "      <td>NaN<\/td>\n",
       "      <td>NaN<\/td>\n",
       "      <td>NaN<\/td>\n",
       "      <td>NaN<\/td>\n",
       "      <td>NaN<\/td>\n",
       "      <td>NaN<\/td>\n",
       "      <td>NaN<\/td>\n",
       "      <td>NaN<\/td>\n",
       "      <td>NaN<\/td>\n",
       "      <td>NaN<\/td>\n",
       "      <td>NaN<\/td>\n",
       "      <td>NaN<\/td>\n",
       "      <td>NaN<\/td>\n",
       "      <td>NaN<\/td>\n",
       "      <td>NaN<\/td>\n",
       "      <td>NaN<\/td>\n",
       "      <td>NaN<\/td>\n",
       "      <td>NaN<\/td>\n",
       "      <td>NaN<\/td>\n",
       "      <td>NaN<\/td>\n",
       "      <td>NaN<\/td>\n",
       "      <td>NaN<\/td>\n",
       "      <td>NaN<\/td>\n",
       "      <td>NaN<\/td>\n",
       "      <td>NaN<\/td>\n",
       "      <td>NaN<\/td>\n",
       "    <\/tr>\n",
       "    <tr>\n",
       "      <th>89029<\/th>\n",
       "      <td>None of these<\/td>\n",
       "      <td>45-54 years old<\/td>\n",
       "      <td>NaN<\/td>\n",
       "      <td>NaN<\/td>\n",
       "      <td>NaN<\/td>\n",
       "      <td>NaN<\/td>\n",
       "      <td>NaN<\/td>\n",
       "      <td>NaN<\/td>\n",
       "      <td>NaN<\/td>\n",
       "      <td>NaN<\/td>\n",
       "      <td>NaN<\/td>\n",
       "      <td>NaN<\/td>\n",
       "      <td>NaN<\/td>\n",
       "      <td>NaN<\/td>\n",
       "      <td>NaN<\/td>\n",
       "      <td>NaN<\/td>\n",
       "      <td>NaN<\/td>\n",
       "      <td>NaN<\/td>\n",
       "      <td>NaN<\/td>\n",
       "      <td>NaN<\/td>\n",
       "      <td>NaN<\/td>\n",
       "      <td>NaN<\/td>\n",
       "      <td>NaN<\/td>\n",
       "      <td>NaN<\/td>\n",
       "      <td>NaN<\/td>\n",
       "      <td>NaN<\/td>\n",
       "      <td>NaN<\/td>\n",
       "      <td>NaN<\/td>\n",
       "      <td>NaN<\/td>\n",
       "      <td>NaN<\/td>\n",
       "      <td>NaN<\/td>\n",
       "      <td>NaN<\/td>\n",
       "      <td>NaN<\/td>\n",
       "      <td>NaN<\/td>\n",
       "      <td>NaN<\/td>\n",
       "      <td>NaN<\/td>\n",
       "      <td>NaN<\/td>\n",
       "      <td>NaN<\/td>\n",
       "      <td>NaN<\/td>\n",
       "      <td>NaN<\/td>\n",
       "      <td>NaN<\/td>\n",
       "      <td>NaN<\/td>\n",
       "      <td>NaN<\/td>\n",
       "      <td>NaN<\/td>\n",
       "      <td>NaN<\/td>\n",
       "      <td>NaN<\/td>\n",
       "      <td>NaN<\/td>\n",
       "      <td>NaN<\/td>\n",
       "      <td>NaN<\/td>\n",
       "      <td>NaN<\/td>\n",
       "      <td>NaN<\/td>\n",
       "      <td>NaN<\/td>\n",
       "      <td>NaN<\/td>\n",
       "      <td>NaN<\/td>\n",
       "      <td>NaN<\/td>\n",
       "      <td>NaN<\/td>\n",
       "      <td>NaN<\/td>\n",
       "      <td>NaN<\/td>\n",
       "      <td>NaN<\/td>\n",
       "      <td>NaN<\/td>\n",
       "      <td>NaN<\/td>\n",
       "      <td>NaN<\/td>\n",
       "      <td>NaN<\/td>\n",
       "      <td>NaN<\/td>\n",
       "      <td>NaN<\/td>\n",
       "      <td>NaN<\/td>\n",
       "      <td>NaN<\/td>\n",
       "      <td>NaN<\/td>\n",
       "      <td>NaN<\/td>\n",
       "      <td>NaN<\/td>\n",
       "      <td>NaN<\/td>\n",
       "      <td>NaN<\/td>\n",
       "      <td>NaN<\/td>\n",
       "      <td>NaN<\/td>\n",
       "      <td>NaN<\/td>\n",
       "      <td>NaN<\/td>\n",
       "      <td>NaN<\/td>\n",
       "      <td>NaN<\/td>\n",
       "      <td>NaN<\/td>\n",
       "      <td>NaN<\/td>\n",
       "      <td>NaN<\/td>\n",
       "      <td>NaN<\/td>\n",
       "    <\/tr>\n",
       "    <tr>\n",
       "      <th>89160<\/th>\n",
       "      <td>None of these<\/td>\n",
       "      <td>Prefer not to say<\/td>\n",
       "      <td>NaN<\/td>\n",
       "      <td>NaN<\/td>\n",
       "      <td>NaN<\/td>\n",
       "      <td>NaN<\/td>\n",
       "      <td>NaN<\/td>\n",
       "      <td>NaN<\/td>\n",
       "      <td>NaN<\/td>\n",
       "      <td>NaN<\/td>\n",
       "      <td>NaN<\/td>\n",
       "      <td>NaN<\/td>\n",
       "      <td>NaN<\/td>\n",
       "      <td>NaN<\/td>\n",
       "      <td>NaN<\/td>\n",
       "      <td>NaN<\/td>\n",
       "      <td>NaN<\/td>\n",
       "      <td>NaN<\/td>\n",
       "      <td>NaN<\/td>\n",
       "      <td>NaN<\/td>\n",
       "      <td>NaN<\/td>\n",
       "      <td>NaN<\/td>\n",
       "      <td>NaN<\/td>\n",
       "      <td>NaN<\/td>\n",
       "      <td>NaN<\/td>\n",
       "      <td>NaN<\/td>\n",
       "      <td>NaN<\/td>\n",
       "      <td>NaN<\/td>\n",
       "      <td>NaN<\/td>\n",
       "      <td>NaN<\/td>\n",
       "      <td>NaN<\/td>\n",
       "      <td>NaN<\/td>\n",
       "      <td>NaN<\/td>\n",
       "      <td>NaN<\/td>\n",
       "      <td>NaN<\/td>\n",
       "      <td>NaN<\/td>\n",
       "      <td>NaN<\/td>\n",
       "      <td>NaN<\/td>\n",
       "      <td>NaN<\/td>\n",
       "      <td>NaN<\/td>\n",
       "      <td>NaN<\/td>\n",
       "      <td>NaN<\/td>\n",
       "      <td>NaN<\/td>\n",
       "      <td>NaN<\/td>\n",
       "      <td>NaN<\/td>\n",
       "      <td>NaN<\/td>\n",
       "      <td>NaN<\/td>\n",
       "      <td>NaN<\/td>\n",
       "      <td>NaN<\/td>\n",
       "      <td>NaN<\/td>\n",
       "      <td>NaN<\/td>\n",
       "      <td>NaN<\/td>\n",
       "      <td>NaN<\/td>\n",
       "      <td>NaN<\/td>\n",
       "      <td>NaN<\/td>\n",
       "      <td>NaN<\/td>\n",
       "      <td>NaN<\/td>\n",
       "      <td>NaN<\/td>\n",
       "      <td>NaN<\/td>\n",
       "      <td>NaN<\/td>\n",
       "      <td>NaN<\/td>\n",
       "      <td>NaN<\/td>\n",
       "      <td>NaN<\/td>\n",
       "      <td>NaN<\/td>\n",
       "      <td>NaN<\/td>\n",
       "      <td>NaN<\/td>\n",
       "      <td>NaN<\/td>\n",
       "      <td>NaN<\/td>\n",
       "      <td>NaN<\/td>\n",
       "      <td>NaN<\/td>\n",
       "      <td>NaN<\/td>\n",
       "      <td>NaN<\/td>\n",
       "      <td>NaN<\/td>\n",
       "      <td>NaN<\/td>\n",
       "      <td>NaN<\/td>\n",
       "      <td>NaN<\/td>\n",
       "      <td>NaN<\/td>\n",
       "      <td>NaN<\/td>\n",
       "      <td>NaN<\/td>\n",
       "      <td>NaN<\/td>\n",
       "      <td>NaN<\/td>\n",
       "      <td>NaN<\/td>\n",
       "    <\/tr>\n",
       "  <\/tbody>\n",
       "<\/table>\n",
       "<p>1203 rows × 82 columns<\/p>\n",
       "<\/div>"
      ]
     },
     "metadata":{},
     "output_type":"display_data"
    }
   ],
   "metadata":{
    "datalore":{
     "node_id":"wibuW3ulp4kaGRmRVlS3S6",
     "type":"CODE",
     "hide_input_from_viewers":true,
     "hide_output_from_viewers":true
    }
   }
  },
  {
   "cell_type":"code",
   "source":[
    "df.drop_duplicates(inplace=True)"
   ],
   "execution_count":15,
   "outputs":[],
   "metadata":{
    "datalore":{
     "node_id":"qk67Uuo7Sbrg9Hxsa9u4XP",
     "type":"CODE",
     "hide_input_from_viewers":true,
     "hide_output_from_viewers":true
    }
   }
  },
  {
   "cell_type":"code",
   "source":[
    "print(df.shape)\n",
    "print(df.apply(lambda col: col.unique())) \n",
    "\n",
    "table = pd.DataFrame({\n",
    "    'Unique':df.nunique(),\n",
    "    'Null':df.isna().sum(),\n",
    "    'NullPercent':df.isna().sum() \/ len(df),\n",
    "    'Type':df.dtypes.values\n",
    "})\n",
    "display(table)"
   ],
   "execution_count":16,
   "outputs":[
    {
     "name":"stdout",
     "text":[
      "(87981, 82)\n",
      "MainBranch             [None of these, I am a developer by profession...\n",
      "Age                    [18-24 years old, 25-34 years old, 45-54 years...\n",
      "Employment             [nan, Employed, full-time, Employed, full-time...\n",
      "RemoteWork             [nan, Remote, Hybrid (some remote, some in-per...\n",
      "CodingActivities       [nan, Hobby;Contribute to open-source projects...\n",
      "                                             ...                        \n",
      "ProfessionalTech       [nan, DevOps function;Microservices;Automated ...\n",
      "Industry               [nan, Information Services, IT, Software Devel...\n",
      "SurveyLength           [nan, Appropriate in length, Too long, Too short]\n",
      "SurveyEase             [nan, Easy, Neither easy nor difficult, Diffic...\n",
      "ConvertedCompYearly    [nan, 285000.0, 250000.0, 156000.0, 23456.0, 9...\n",
      "Length: 82, dtype: object\n"
     ],
     "output_type":"stream"
    },
    {
     "data":{
      "text\/html":[
       "<div>\n",
       "<style scoped>\n",
       "    .dataframe tbody tr th:only-of-type {\n",
       "        vertical-align: middle;\n",
       "    }\n",
       "\n",
       "    .dataframe tbody tr th {\n",
       "        vertical-align: top;\n",
       "    }\n",
       "\n",
       "    .dataframe thead th {\n",
       "        text-align: right;\n",
       "    }\n",
       "<\/style>\n",
       "<table border=\"1\" class=\"dataframe\">\n",
       "  <thead>\n",
       "    <tr style=\"text-align: right;\">\n",
       "      <th><\/th>\n",
       "      <th>Unique<\/th>\n",
       "      <th>Null<\/th>\n",
       "      <th>NullPercent<\/th>\n",
       "      <th>Type<\/th>\n",
       "    <\/tr>\n",
       "  <\/thead>\n",
       "  <tbody>\n",
       "    <tr>\n",
       "      <th>MainBranch<\/th>\n",
       "      <td>6<\/td>\n",
       "      <td>0<\/td>\n",
       "      <td>0.000000<\/td>\n",
       "      <td>object<\/td>\n",
       "    <\/tr>\n",
       "    <tr>\n",
       "      <th>Age<\/th>\n",
       "      <td>8<\/td>\n",
       "      <td>0<\/td>\n",
       "      <td>0.000000<\/td>\n",
       "      <td>object<\/td>\n",
       "    <\/tr>\n",
       "    <tr>\n",
       "      <th>Employment<\/th>\n",
       "      <td>106<\/td>\n",
       "      <td>83<\/td>\n",
       "      <td>0.000943<\/td>\n",
       "      <td>object<\/td>\n",
       "    <\/tr>\n",
       "    <tr>\n",
       "      <th>RemoteWork<\/th>\n",
       "      <td>3<\/td>\n",
       "      <td>14171<\/td>\n",
       "      <td>0.161069<\/td>\n",
       "      <td>object<\/td>\n",
       "    <\/tr>\n",
       "    <tr>\n",
       "      <th>CodingActivities<\/th>\n",
       "      <td>116<\/td>\n",
       "      <td>14217<\/td>\n",
       "      <td>0.161592<\/td>\n",
       "      <td>object<\/td>\n",
       "    <\/tr>\n",
       "    <tr>\n",
       "      <th>...<\/th>\n",
       "      <td>...<\/td>\n",
       "      <td>...<\/td>\n",
       "      <td>...<\/td>\n",
       "      <td>...<\/td>\n",
       "    <\/tr>\n",
       "    <tr>\n",
       "      <th>ProfessionalTech<\/th>\n",
       "      <td>284<\/td>\n",
       "      <td>46198<\/td>\n",
       "      <td>0.525091<\/td>\n",
       "      <td>object<\/td>\n",
       "    <\/tr>\n",
       "    <tr>\n",
       "      <th>Industry<\/th>\n",
       "      <td>12<\/td>\n",
       "      <td>51207<\/td>\n",
       "      <td>0.582023<\/td>\n",
       "      <td>object<\/td>\n",
       "    <\/tr>\n",
       "    <tr>\n",
       "      <th>SurveyLength<\/th>\n",
       "      <td>3<\/td>\n",
       "      <td>1496<\/td>\n",
       "      <td>0.017004<\/td>\n",
       "      <td>object<\/td>\n",
       "    <\/tr>\n",
       "    <tr>\n",
       "      <th>SurveyEase<\/th>\n",
       "      <td>3<\/td>\n",
       "      <td>1427<\/td>\n",
       "      <td>0.016219<\/td>\n",
       "      <td>object<\/td>\n",
       "    <\/tr>\n",
       "    <tr>\n",
       "      <th>ConvertedCompYearly<\/th>\n",
       "      <td>8784<\/td>\n",
       "      <td>39962<\/td>\n",
       "      <td>0.454212<\/td>\n",
       "      <td>float64<\/td>\n",
       "    <\/tr>\n",
       "  <\/tbody>\n",
       "<\/table>\n",
       "<p>82 rows × 4 columns<\/p>\n",
       "<\/div>"
      ]
     },
     "metadata":{},
     "output_type":"display_data"
    }
   ],
   "metadata":{
    "datalore":{
     "node_id":"1YeiMYOHZ7tx0bx3sLEwel",
     "type":"CODE",
     "hide_input_from_viewers":true,
     "hide_output_from_viewers":true
    }
   }
  },
  {
   "cell_type":"markdown",
   "source":[
    "## Visualization and correlation analysis "
   ],
   "attachments":{},
   "metadata":{
    "datalore":{
     "node_id":"OYOycB6K0nZpUn2lko2hIu",
     "type":"MD",
     "hide_input_from_viewers":true,
     "hide_output_from_viewers":true
    }
   }
  },
  {
   "cell_type":"code",
   "source":[
    "# Setting Seaborn theme for visualizations\n",
    "sns.set_theme()\n",
    "sns.set(rc={'figure.figsize':(6,6)})\n",
    "sns.set_context(\"paper\")"
   ],
   "execution_count":17,
   "outputs":[],
   "metadata":{
    "datalore":{
     "node_id":"mQyhWMVeuTTnEP4ElJiCIG",
     "type":"CODE",
     "hide_input_from_viewers":true,
     "hide_output_from_viewers":true
    }
   }
  },
  {
   "cell_type":"code",
   "source":[
    "plt.figure(figsize=(18,9))\n",
    "sns.heatmap(df.corr(), annot=True, fmt='.1f')"
   ],
   "execution_count":14,
   "outputs":[
    {
     "name":"stderr",
     "text":[
      "<ipython-input-14-957c0545639c>:2: FutureWarning: The default value of numeric_only in DataFrame.corr is deprecated. In a future version, it will default to False. Select only valid columns or specify the value of numeric_only to silence this warning.\n",
      "  sns.heatmap(df.corr(), annot=True, fmt='.1f')\n"
     ],
     "output_type":"stream"
    },
    {
     "data":{
      "text\/plain":[
       "<Axes: >"
      ]
     },
     "metadata":{},
     "output_type":"display_data"
    },
    {
     "data":{
      "image\/png":"[encoded data removed]"
     },
     "metadata":{
      "image\/png":{}
     },
     "output_type":"display_data"
    }
   ],
   "metadata":{
    "datalore":{
     "node_id":"T1iVAg2sBw6iHGNnlxMglB",
     "type":"CODE",
     "hide_input_from_viewers":true,
     "hide_output_from_viewers":true
    }
   }
  },
  {
   "cell_type":"markdown",
   "source":[
    "It is very dificuilt to do correlation analysis because most of the data is categorical "
   ],
   "attachments":{},
   "metadata":{
    "datalore":{
     "node_id":"aUcvPq8Ub8cOAXrRvyTu6G",
     "type":"MD",
     "hide_input_from_viewers":true,
     "hide_output_from_viewers":true
    }
   }
  },
  {
   "cell_type":"code",
   "source":[
    "# Responses split by job roles\n",
    "sns.countplot(df, y='DevType').set(xlabel='Number of responses', ylabel='', title='Responses by job role') #stat='percent'"
   ],
   "execution_count":18,
   "outputs":[
    {
     "data":{
      "text\/plain":[
       "[Text(0.5, 0, 'Number of responses'),\n",
       " Text(0, 0.5, ''),\n",
       " Text(0.5, 1.0, 'Responses by job role')]"
      ]
     },
     "metadata":{},
     "output_type":"display_data"
    },
    {
     "data":{
      "image\/png":"[encoded data removed]"
     },
     "metadata":{
      "image\/png":{}
     },
     "output_type":"display_data"
    }
   ],
   "metadata":{
    "datalore":{
     "node_id":"2oHNK5pFywdFA7KJzK1Il5",
     "type":"CODE",
     "hide_input_from_viewers":true,
     "hide_output_from_viewers":true
    }
   }
  },
  {
   "cell_type":"code",
   "source":[
    "# Countries with >1000 responses\n",
    "countries = df.Country.value_counts()\n",
    "countries_top = countries[countries>1000]\n",
    "countries_top.plot(kind=\"barh\", ylabel='', xlabel='Number of responses', title='Countries with >1000 responses')"
   ],
   "execution_count":19,
   "outputs":[
    {
     "data":{
      "text\/plain":[
       "<Axes: title={'center': 'Countries with >1000 responses'}, xlabel='Number of responses'>"
      ]
     },
     "metadata":{},
     "output_type":"display_data"
    },
    {
     "data":{
      "image\/png":"[encoded data removed]"
     },
     "metadata":{
      "image\/png":{}
     },
     "output_type":"display_data"
    }
   ],
   "metadata":{
    "datalore":{
     "node_id":"b7uBRCeeCqQGMQbfElL7lC",
     "type":"CODE",
     "hide_input_from_viewers":true,
     "hide_output_from_viewers":true
    }
   }
  },
  {
   "cell_type":"code",
   "source":[
    "# Countries with between 200 and 1000 responses\n",
    "countries[((countries>200) & (countries<1000))].plot(kind=\"barh\", ylabel='', xlabel='Number of responses', title='Country of respondents')"
   ],
   "execution_count":20,
   "outputs":[
    {
     "data":{
      "text\/plain":[
       "<Axes: title={'center': 'Country of respondents'}, xlabel='Number of responses'>"
      ]
     },
     "metadata":{},
     "output_type":"display_data"
    },
    {
     "data":{
      "image\/png":"[encoded data removed]"
     },
     "metadata":{
      "image\/png":{}
     },
     "output_type":"display_data"
    }
   ],
   "metadata":{
    "datalore":{
     "node_id":"yAtHqRgmedBNnqZFjri3bQ",
     "type":"CODE",
     "hide_input_from_viewers":true,
     "hide_output_from_viewers":true
    }
   }
  },
  {
   "cell_type":"code",
   "source":[
    "\n",
    "# Percentage of responses by age categories\n",
    "df['Age'].value_counts(normalize=True).plot(kind=\"barh\", ylabel='', title='Age of respondents')"
   ],
   "execution_count":21,
   "outputs":[
    {
     "data":{
      "text\/plain":[
       "<Axes: title={'center': 'Age of respondents'}>"
      ]
     },
     "metadata":{},
     "output_type":"display_data"
    },
    {
     "data":{
      "image\/png":"[encoded data removed]"
     },
     "metadata":{
      "image\/png":{}
     },
     "output_type":"display_data"
    }
   ],
   "metadata":{
    "datalore":{
     "node_id":"TteImcrLdfcPUpuKxR3GRI",
     "type":"CODE",
     "hide_input_from_viewers":true,
     "hide_output_from_viewers":true
    }
   }
  },
  {
   "cell_type":"code",
   "source":[
    "# Simplifying Secondary school response\n",
    "df['EdLevel'].replace(to_replace='Secondary school (e.g. American high school, German Realschule or Gymnasium, etc.)',value='Secondary school', inplace=True)"
   ],
   "execution_count":22,
   "outputs":[],
   "metadata":{
    "datalore":{
     "node_id":"PzAIq8vMjCTJBAv2wPseoZ",
     "type":"CODE",
     "hide_input_from_viewers":true,
     "hide_output_from_viewers":true
    }
   }
  },
  {
   "cell_type":"code",
   "source":[
    "df['EdLevel'].value_counts(normalize=True).plot(kind=\"barh\", ylabel='', title='Highest level of education completed')"
   ],
   "execution_count":23,
   "outputs":[
    {
     "data":{
      "text\/plain":[
       "<Axes: title={'center': 'Highest level of education completed'}>"
      ]
     },
     "metadata":{},
     "output_type":"display_data"
    },
    {
     "data":{
      "image\/png":"[encoded data removed]"
     },
     "metadata":{
      "image\/png":{}
     },
     "output_type":"display_data"
    }
   ],
   "metadata":{
    "datalore":{
     "node_id":"Yl94xXs042pM3Gz9CAe055",
     "type":"CODE",
     "hide_input_from_viewers":true,
     "hide_output_from_viewers":true
    }
   }
  },
  {
   "cell_type":"code",
   "source":[
    "\n",
    "df.loc[df['DevType']=='Data scientist or machine learning specialist','EdLevel'].value_counts(normalize=True).plot(kind=\"barh\", title=\"Highest level of education completed for data scientist or machine learning specialist\", ylabel='')"
   ],
   "execution_count":24,
   "outputs":[
    {
     "data":{
      "text\/plain":[
       "<Axes: title={'center': 'Highest level of education completed for data scientist or machine learning specialist'}>"
      ]
     },
     "metadata":{},
     "output_type":"display_data"
    },
    {
     "data":{
      "image\/png":"[encoded data removed]"
     },
     "metadata":{
      "image\/png":{}
     },
     "output_type":"display_data"
    }
   ],
   "metadata":{
    "datalore":{
     "node_id":"KmRwS1otKHiJwKdqsr0Bqn",
     "type":"CODE",
     "hide_input_from_viewers":true,
     "hide_output_from_viewers":true
    }
   }
  },
  {
   "cell_type":"code",
   "source":[
    "df.loc[df['DevType']=='Data or business analyst','EdLevel'].value_counts(normalize=True).plot(kind=\"barh\", title=\"Highest level of education completed for data or business analyst\", ylabel='')\n"
   ],
   "execution_count":25,
   "outputs":[
    {
     "data":{
      "text\/plain":[
       "<Axes: title={'center': 'Highest level of education completed for data or business analyst'}>"
      ]
     },
     "metadata":{},
     "output_type":"display_data"
    },
    {
     "data":{
      "image\/png":"[encoded data removed]"
     },
     "metadata":{
      "image\/png":{}
     },
     "output_type":"display_data"
    }
   ],
   "metadata":{
    "datalore":{
     "node_id":"zYcJTgVVVZPclpisFDXrQR",
     "type":"CODE",
     "hide_input_from_viewers":true,
     "hide_output_from_viewers":true
    }
   }
  },
  {
   "cell_type":"code",
   "source":[
    "sns.barplot(df, y='RemoteWork', \n",
    "            x='ConvertedCompYearly',\n",
    "            estimator = 'median').set(ylabel = '', \n",
    "                                         xlabel = 'Annual Compensation in USD', \n",
    "                                         title = 'Median annual compensation for remote\/in-person work')\n"
   ],
   "execution_count":26,
   "outputs":[
    {
     "data":{
      "text\/plain":[
       "[Text(0, 0.5, ''),\n",
       " Text(0.5, 0, 'Annual Compensation in USD'),\n",
       " Text(0.5, 1.0, 'Median annual compensation for remote\/in-person work')]"
      ]
     },
     "metadata":{},
     "output_type":"display_data"
    },
    {
     "data":{
      "image\/png":"[encoded data removed]"
     },
     "metadata":{
      "image\/png":{}
     },
     "output_type":"display_data"
    }
   ],
   "metadata":{
    "datalore":{
     "node_id":"8mTcyvIPkGEZHN9Jl3VKiQ",
     "type":"CODE",
     "hide_input_from_viewers":true,
     "hide_output_from_viewers":true
    }
   }
  },
  {
   "cell_type":"code",
   "source":[
    "\n",
    "result = df.groupby([\"DevType\"])['ConvertedCompYearly'].aggregate(np.median).reset_index().sort_values('ConvertedCompYearly')\n",
    "sns.barplot(df, y='DevType', x='ConvertedCompYearly', estimator='median', \n",
    "            order=result['DevType']).set(ylabel = '', \n",
    "                                         xlabel = 'Annual Compensation in USD', \n",
    "                                         title = 'Median annual compensation by job role')\n"
   ],
   "execution_count":27,
   "outputs":[
    {
     "data":{
      "text\/plain":[
       "[Text(0, 0.5, ''),\n",
       " Text(0.5, 0, 'Annual Compensation in USD'),\n",
       " Text(0.5, 1.0, 'Median annual compensation by job role')]"
      ]
     },
     "metadata":{},
     "output_type":"display_data"
    },
    {
     "data":{
      "image\/png":"[encoded data removed]"
     },
     "metadata":{
      "image\/png":{}
     },
     "output_type":"display_data"
    }
   ],
   "metadata":{
    "datalore":{
     "node_id":"WZmPpIdQQrsXpzl1hGJm6S",
     "type":"CODE",
     "hide_input_from_viewers":true,
     "hide_output_from_viewers":true
    }
   }
  },
  {
   "cell_type":"code",
   "source":[
    "result = df[df.Country == \"United States of America\"].groupby([\"DevType\"])['ConvertedCompYearly'].aggregate(np.median).reset_index().sort_values('ConvertedCompYearly')\n",
    "sns.barplot(df[df.Country == \"United States of America\"], \n",
    "            y='DevType', \n",
    "            x='ConvertedCompYearly', \n",
    "            estimator='median', \n",
    "            order=result['DevType'],\n",
    "            errorbar=None).set(ylabel = '', xlabel = 'Annual Compensation in USD', title = 'Median annual compensation for job role in USA')"
   ],
   "execution_count":28,
   "outputs":[
    {
     "data":{
      "text\/plain":[
       "[Text(0, 0.5, ''),\n",
       " Text(0.5, 0, 'Annual Compensation in USD'),\n",
       " Text(0.5, 1.0, 'Median annual compensation for job role in USA')]"
      ]
     },
     "metadata":{},
     "output_type":"display_data"
    },
    {
     "data":{
      "image\/png":"[encoded data removed]"
     },
     "metadata":{
      "image\/png":{}
     },
     "output_type":"display_data"
    }
   ],
   "metadata":{
    "datalore":{
     "node_id":"qpEKZmY6qbYB3jYb7qnv3T",
     "type":"CODE",
     "hide_input_from_viewers":true,
     "hide_output_from_viewers":true
    }
   }
  },
  {
   "cell_type":"code",
   "source":[
    "result = df[df.Industry.notnull()].groupby([\"Industry\"])['ConvertedCompYearly'].aggregate(np.median).reset_index().sort_values('ConvertedCompYearly')\n",
    "sns.barplot(df[df.Industry.notnull()], \n",
    "            y='Industry', \n",
    "            x='ConvertedCompYearly', \n",
    "            estimator='median', \n",
    "            order=result['Industry'],\n",
    "            errorbar=None).set(ylabel = '', xlabel = 'Annual Compensation in USD', title = 'Median annual compensation by industry')\n"
   ],
   "execution_count":29,
   "outputs":[
    {
     "data":{
      "text\/plain":[
       "[Text(0, 0.5, ''),\n",
       " Text(0.5, 0, 'Annual Compensation in USD'),\n",
       " Text(0.5, 1.0, 'Median annual compensation by industry')]"
      ]
     },
     "metadata":{},
     "output_type":"display_data"
    },
    {
     "data":{
      "image\/png":"[encoded data removed]"
     },
     "metadata":{
      "image\/png":{}
     },
     "output_type":"display_data"
    }
   ],
   "metadata":{
    "datalore":{
     "node_id":"925b2noJY4jg3E572BHy9F",
     "type":"CODE",
     "hide_input_from_viewers":true,
     "hide_output_from_viewers":true
    }
   }
  },
  {
   "cell_type":"code",
   "source":[
    "languages_df = df[['DevType', 'LanguageHaveWorkedWith']].copy()\n",
    "languages_df"
   ],
   "execution_count":30,
   "outputs":[
    {
     "data":{
      "text\/html":[
       "<div>\n",
       "<style scoped>\n",
       "    .dataframe tbody tr th:only-of-type {\n",
       "        vertical-align: middle;\n",
       "    }\n",
       "\n",
       "    .dataframe tbody tr th {\n",
       "        vertical-align: top;\n",
       "    }\n",
       "\n",
       "    .dataframe thead th {\n",
       "        text-align: right;\n",
       "    }\n",
       "<\/style>\n",
       "<table border=\"1\" class=\"dataframe\">\n",
       "  <thead>\n",
       "    <tr style=\"text-align: right;\">\n",
       "      <th><\/th>\n",
       "      <th>DevType<\/th>\n",
       "      <th>LanguageHaveWorkedWith<\/th>\n",
       "    <\/tr>\n",
       "    <tr>\n",
       "      <th>ResponseId<\/th>\n",
       "      <th><\/th>\n",
       "      <th><\/th>\n",
       "    <\/tr>\n",
       "  <\/thead>\n",
       "  <tbody>\n",
       "    <tr>\n",
       "      <th>1<\/th>\n",
       "      <td>NaN<\/td>\n",
       "      <td>NaN<\/td>\n",
       "    <\/tr>\n",
       "    <tr>\n",
       "      <th>2<\/th>\n",
       "      <td>Senior Executive (C-Suite, VP, etc.)<\/td>\n",
       "      <td>HTML\/CSS;JavaScript;Python<\/td>\n",
       "    <\/tr>\n",
       "    <tr>\n",
       "      <th>3<\/th>\n",
       "      <td>Developer, back-end<\/td>\n",
       "      <td>Bash\/Shell (all shells);Go<\/td>\n",
       "    <\/tr>\n",
       "    <tr>\n",
       "      <th>4<\/th>\n",
       "      <td>Developer, front-end<\/td>\n",
       "      <td>Bash\/Shell (all shells);HTML\/CSS;JavaScript;PH...<\/td>\n",
       "    <\/tr>\n",
       "    <tr>\n",
       "      <th>5<\/th>\n",
       "      <td>Developer, full-stack<\/td>\n",
       "      <td>HTML\/CSS;JavaScript;TypeScript<\/td>\n",
       "    <\/tr>\n",
       "    <tr>\n",
       "      <th>...<\/th>\n",
       "      <td>...<\/td>\n",
       "      <td>...<\/td>\n",
       "    <\/tr>\n",
       "    <tr>\n",
       "      <th>89180<\/th>\n",
       "      <td>Developer, front-end<\/td>\n",
       "      <td>HTML\/CSS;Java;JavaScript;SQL;TypeScript<\/td>\n",
       "    <\/tr>\n",
       "    <tr>\n",
       "      <th>89181<\/th>\n",
       "      <td>Developer, back-end<\/td>\n",
       "      <td>Dart;Java;Python;SQL<\/td>\n",
       "    <\/tr>\n",
       "    <tr>\n",
       "      <th>89182<\/th>\n",
       "      <td>NaN<\/td>\n",
       "      <td>Assembly;Bash\/Shell (all shells);C;C#;Python;R...<\/td>\n",
       "    <\/tr>\n",
       "    <tr>\n",
       "      <th>89183<\/th>\n",
       "      <td>System administrator<\/td>\n",
       "      <td>Bash\/Shell (all shells);C#;HTML\/CSS;Java;JavaS...<\/td>\n",
       "    <\/tr>\n",
       "    <tr>\n",
       "      <th>89184<\/th>\n",
       "      <td>Developer, full-stack<\/td>\n",
       "      <td>C#;Go;JavaScript;SQL;TypeScript<\/td>\n",
       "    <\/tr>\n",
       "  <\/tbody>\n",
       "<\/table>\n",
       "<p>87981 rows × 2 columns<\/p>\n",
       "<\/div>"
      ]
     },
     "metadata":{},
     "output_type":"display_data"
    }
   ],
   "metadata":{
    "datalore":{
     "node_id":"ObM6UAdyd3uwK1CdGgMT80",
     "type":"CODE",
     "hide_input_from_viewers":true,
     "hide_output_from_viewers":true
    }
   }
  },
  {
   "cell_type":"code",
   "source":[
    "languages = [\n",
    "'Assembly',\n",
    "'Bash\/Shell (all shells)',\n",
    "'C',\n",
    "'C#',\n",
    "'C++',\n",
    "'Dart',\n",
    "'Delphi',\n",
    "'Fortran',\n",
    "'GDScript',\n",
    "'Go',\n",
    "'Groovy',\n",
    "'Haskell',\n",
    "'HTML\/CSS',\n",
    "'Java',\n",
    "'JavaScript',\n",
    "'Julia',\n",
    "'Kotlin',\n",
    "'Lisp',\n",
    "'Lua',\n",
    "'MATLAB',\n",
    "'Objective-C',\n",
    "'Perl',\n",
    "'PHP',\n",
    "'PowerShell',\n",
    "'Python',\n",
    "'R',\n",
    "'Ruby',\n",
    "'Rust',\n",
    "'Scala',\n",
    "'SQL',\n",
    "'Swift',\n",
    "'TypeScript',\n",
    "'VBA',\n",
    "'Visual Basic (.Net)'         \n",
    "]\n",
    "\n",
    "languages_df = languages_df.join(\n",
    "    languages_df['LanguageHaveWorkedWith'].str.get_dummies(sep=';')\n",
    "    .reindex(languages, axis=1, fill_value=0).astype(bool)\n",
    ")"
   ],
   "execution_count":31,
   "outputs":[],
   "metadata":{
    "datalore":{
     "node_id":"6HrDxC1YQMRoVdPLlzJS5E",
     "type":"CODE",
     "hide_input_from_viewers":true,
     "hide_output_from_viewers":true
    }
   }
  },
  {
   "cell_type":"code",
   "source":[
    "languages_counts = dict.fromkeys(languages)"
   ],
   "execution_count":32,
   "outputs":[],
   "metadata":{
    "datalore":{
     "node_id":"bVQufgKmPHkuiJxceTgJEX",
     "type":"CODE",
     "hide_input_from_viewers":true,
     "hide_output_from_viewers":true
    }
   }
  },
  {
   "cell_type":"code",
   "source":[
    "for language in languages:\n",
    "    languages_counts[language] = languages_df[language].sum()\/len(languages_df)"
   ],
   "execution_count":33,
   "outputs":[],
   "metadata":{
    "datalore":{
     "node_id":"Yk2ZeRQYFMKBp9uKzNstor",
     "type":"CODE",
     "hide_input_from_viewers":true,
     "hide_output_from_viewers":true
    }
   }
  },
  {
   "cell_type":"code",
   "source":[
    "languages_counts.keys()"
   ],
   "execution_count":34,
   "outputs":[
    {
     "data":{
      "text\/plain":[
       "dict_keys(['Assembly', 'Bash\/Shell (all shells)', 'C', 'C#', 'C++', 'Dart', 'Delphi', 'Fortran', 'GDScript', 'Go', 'Groovy', 'Haskell', 'HTML\/CSS', 'Java', 'JavaScript', 'Julia', 'Kotlin', 'Lisp', 'Lua', 'MATLAB', 'Objective-C', 'Perl', 'PHP', 'PowerShell', 'Python', 'R', 'Ruby', 'Rust', 'Scala', 'SQL', 'Swift', 'TypeScript', 'VBA', 'Visual Basic (.Net)'])"
      ]
     },
     "metadata":{},
     "output_type":"display_data"
    }
   ],
   "metadata":{
    "datalore":{
     "node_id":"4qJtCB6tu2ggfOg8zZJTcz",
     "type":"CODE",
     "hide_input_from_viewers":true,
     "hide_output_from_viewers":true
    }
   }
  },
  {
   "cell_type":"code",
   "source":[
    "\n",
    "sns.barplot(y=list(languages_counts.keys()), x=list(languages_counts.values())).set(title=\"Most popular programming languages for all respondents\")"
   ],
   "execution_count":35,
   "outputs":[
    {
     "data":{
      "text\/plain":[
       "[Text(0.5, 1.0, 'Most popular programming languages for all respondents')]"
      ]
     },
     "metadata":{},
     "output_type":"display_data"
    },
    {
     "data":{
      "image\/png":"[encoded data removed]"
     },
     "metadata":{
      "image\/png":{}
     },
     "output_type":"display_data"
    }
   ],
   "metadata":{
    "datalore":{
     "node_id":"txdcoBPPHXlhYv8jjX625o",
     "type":"CODE",
     "hide_input_from_viewers":true,
     "hide_output_from_viewers":true
    }
   }
  },
  {
   "cell_type":"code",
   "source":[
    "data_counts = dict.fromkeys(languages)\n",
    "ml_counts = dict.fromkeys(languages)\n",
    "fulldev_counts = dict.fromkeys(languages)"
   ],
   "execution_count":36,
   "outputs":[],
   "metadata":{
    "datalore":{
     "node_id":"nTrlCpQ22zcjdMrxcF4RpQ",
     "type":"CODE",
     "hide_input_from_viewers":true,
     "hide_output_from_viewers":true
    }
   }
  },
  {
   "cell_type":"code",
   "source":[
    "#Change DevType to check relevant tools for each role\n",
    "for language in languages:\n",
    "    data_counts[language] = languages_df[languages_df['DevType']=='Data or business analyst'][language].sum()\/len(languages_df[languages_df['DevType']=='Data or business analyst'])\n",
    "    ml_counts[language] = languages_df[languages_df['DevType']=='Data scientist or machine learning specialist'][language].sum()\/len(languages_df[languages_df['DevType']=='Data scientist or machine learning specialist'])\n",
    "    fulldev_counts[language] = languages_df[languages_df['DevType']=='Developer, full-stack'][language].sum()\/len(languages_df[languages_df['DevType']=='Developer, full-stack'])"
   ],
   "execution_count":37,
   "outputs":[],
   "metadata":{
    "datalore":{
     "node_id":"mwFD4BNtQh6w6Fvlb7fsrv",
     "type":"CODE",
     "hide_input_from_viewers":true,
     "hide_output_from_viewers":true
    }
   }
  },
  {
   "cell_type":"code",
   "source":[
    "sns.barplot(y=list(data_counts.keys()), x=list(data_counts.values())).set(title=\"Most popular programming languages for data or business analyst\")"
   ],
   "execution_count":38,
   "outputs":[
    {
     "data":{
      "text\/plain":[
       "[Text(0.5, 1.0, 'Most popular programming languages for data or business analyst')]"
      ]
     },
     "metadata":{},
     "output_type":"display_data"
    },
    {
     "data":{
      "image\/png":"[encoded data removed]"
     },
     "metadata":{
      "image\/png":{}
     },
     "output_type":"display_data"
    }
   ],
   "metadata":{
    "datalore":{
     "node_id":"qPA0K5c1YVaGygDN6J8Dbm",
     "type":"CODE",
     "hide_input_from_viewers":true,
     "hide_output_from_viewers":true
    }
   }
  },
  {
   "cell_type":"code",
   "source":[
    "sns.barplot(y=list(ml_counts.keys()), x=list(ml_counts.values())).set(title=\"Most popular programming languages for data scientists or machine learning specialists\")"
   ],
   "execution_count":36,
   "outputs":[
    {
     "data":{
      "text\/plain":[
       "[Text(0.5, 1.0, 'Most popular programming languages for data scientists or machine learning specialists')]"
      ]
     },
     "metadata":{},
     "output_type":"display_data"
    },
    {
     "data":{
      "image\/png":"[encoded data removed]"
     },
     "metadata":{
      "image\/png":{}
     },
     "output_type":"display_data"
    }
   ],
   "metadata":{
    "datalore":{
     "node_id":"oxUBzmziEx2oMoH6mFCP07",
     "type":"CODE",
     "hide_input_from_viewers":true,
     "hide_output_from_viewers":true
    }
   }
  },
  {
   "cell_type":"code",
   "source":[
    "sns.barplot(y=list(fulldev_counts.keys()), x=list(fulldev_counts.values())).set(title=\"Most popular programming languages for full stack devs\")"
   ],
   "execution_count":37,
   "outputs":[
    {
     "data":{
      "text\/plain":[
       "[Text(0.5, 1.0, 'Most popular programming languages for full stack devs')]"
      ]
     },
     "metadata":{},
     "output_type":"display_data"
    },
    {
     "data":{
      "image\/png":"[encoded data removed]"
     },
     "metadata":{
      "image\/png":{}
     },
     "output_type":"display_data"
    }
   ],
   "metadata":{
    "datalore":{
     "node_id":"D2BpEYif21FsCcEIxK90xR",
     "type":"CODE",
     "hide_input_from_viewers":true,
     "hide_output_from_viewers":true
    }
   }
  },
  {
   "cell_type":"code",
   "source":[
    "def split_multicolumn(col_series):\n",
    "    result_df = pd.get_dummies(col_series.str.split(';', expand=True).stack(), prefix='', prefix_sep='').groupby(level=0).max()\n",
    "    return result_df.astype(bool)\n",
    "\n",
    "languages_worked_df = split_multicolumn(df['LanguageHaveWorkedWith'])\n",
    "languages_interested_df = split_multicolumn(df['LanguageWantToWorkWith'])"
   ],
   "execution_count":39,
   "outputs":[],
   "metadata":{
    "datalore":{
     "node_id":"9KNG7F5buIGQ5iGvrBdnlY",
     "type":"CODE",
     "hide_input_from_viewers":true,
     "hide_output_from_viewers":true
    }
   }
  },
  {
   "cell_type":"code",
   "source":[
    "languages_loved_df = languages_worked_df & languages_interested_df\n",
    "languages_loved_percentages = (languages_loved_df.sum() * 100\/ languages_worked_df.sum()).sort_values(ascending=False)"
   ],
   "execution_count":40,
   "outputs":[],
   "metadata":{
    "datalore":{
     "node_id":"1LTBn90KnVK3WhcwPrHqt6",
     "type":"CODE",
     "hide_input_from_viewers":true,
     "hide_output_from_viewers":true
    }
   }
  },
  {
   "cell_type":"code",
   "source":[
    "plt.figure(figsize=(12, 12))\n",
    "\n",
    "# Choose a color palette (e.g., \"muted\")\n",
    "sns.set_palette(\"muted\")\n",
    "\n",
    "# Use seaborn's barplot with hue\n",
    "ax = sns.barplot(x=languages_loved_percentages, y=languages_loved_percentages.index, dodge=False)\n",
    "\n",
    "# Set plot title and labels\n",
    "plt.title(\"Most Loved Languages\", fontsize=16)\n",
    "plt.xlabel('Percentage of Respondents', fontsize=14)\n",
    "plt.ylabel('Programming Languages', fontsize=14)\n",
    "\n",
    "# Customize ticks and grid\n",
    "plt.xticks(fontsize=12)\n",
    "plt.yticks(fontsize=12)\n",
    "plt.grid(axis='x', linestyle='--', alpha=0.7)\n",
    "\n",
    "# Adjust legend placement\n",
    "# plt.legend(title='Languages', title_fontsize='14', bbox_to_anchor=(1, 1), loc='upper left', fontsize='12')\n",
    "for p in ax.patches:\n",
    "    percentage = f\"{p.get_width():.2f}%\"\n",
    "    x = p.get_x() + p.get_width() + 0.01\n",
    "    y = p.get_y() + p.get_height() \/ 2\n",
    "    ax.annotate(percentage, (x, y), fontsize=10, va='center')\n",
    "\n",
    "# Show the plot\n",
    "plt.show()\n",
    "# Show the plot\n",
    "plt.show()"
   ],
   "execution_count":41,
   "outputs":[
    {
     "data":{
      "image\/png":"[encoded data removed]"
     },
     "metadata":{
      "image\/png":{}
     },
     "output_type":"display_data"
    }
   ],
   "metadata":{
    "datalore":{
     "node_id":"piWPfJKmDQ9MfmNWwk8Iur",
     "type":"CODE",
     "hide_input_from_viewers":true,
     "hide_output_from_viewers":true
    }
   }
  },
  {
   "cell_type":"markdown",
   "source":[
    "## Conclusion:\n",
    "\n",
    "This dataset offers great potential to define characteristics (especially hard skills) for different job roles, compare salaries between countries and examine how development experience affects various other factors. \n",
    "\n",
    "## Main problem\n",
    "\n",
    "Most of the data is categorical and because of computational power limitations to process the data, we need to find a workaround on how to process it for further analysis. "
   ],
   "attachments":{},
   "metadata":{
    "datalore":{
     "node_id":"NNpf82cxE1sCyR0OhSzGlf",
     "type":"MD",
     "hide_input_from_viewers":true,
     "hide_output_from_viewers":true
    }
   }
  }
 ],
 "metadata":{
  "kernelspec":{
   "display_name":"Python",
   "language":"python",
   "name":"python"
  },
  "datalore":{
   "computation_mode":"JUPYTER",
   "package_manager":"pip",
   "base_environment":"default",
   "packages":[
    {
     "name":"ydata-profiling",
     "source":"PIP"
    }
   ],
   "report_row_ids":[],
   "version":3
  }
 },
 "nbformat":4,
 "nbformat_minor":4
}