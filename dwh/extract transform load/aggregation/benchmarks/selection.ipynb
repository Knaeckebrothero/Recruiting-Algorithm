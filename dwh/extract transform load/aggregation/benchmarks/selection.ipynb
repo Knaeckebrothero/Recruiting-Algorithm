{
 "cells": [
  {
   "cell_type": "code",
   "execution_count": 1,
   "id": "initial_id",
   "metadata": {
    "collapsed": true
   },
   "outputs": [
    {
     "name": "stdout",
     "output_type": "stream",
     "text": [
      "Successfully copied 100 files!\n"
     ]
    }
   ],
   "source": [
    "import os\n",
    "import shutil\n",
    "import random\n",
    "\n",
    "\n",
    "files = input(\"Enter the number of files to select: \")\n",
    "\n",
    "# Set the path to the source and destination directories\n",
    "source_directory = input(\"Enter the source directory: \")\n",
    "destination_directory = input(\"Enter the destination directory: \")\n",
    "\n",
    "# Get a list of all files in the source directory\n",
    "all_files = [f for f in os.listdir(source_directory) if os.path.isfile(os.path.join(source_directory, f))]\n",
    "\n",
    "# Randomly select files\n",
    "random_files = random.sample(all_files, int(files))\n",
    "\n",
    "# Copy the selected files to the destination directory\n",
    "for file_name in random_files:\n",
    "    source_path = os.path.join(source_directory, file_name)\n",
    "    destination_path = os.path.join(destination_directory, file_name)\n",
    "    shutil.copy2(source_path, destination_path)\n",
    "\n",
    "print(f\"Successfully copied {files} files!\")"
   ]
  }
 ],
 "metadata": {
  "kernelspec": {
   "display_name": "Python 3",
   "language": "python",
   "name": "python3"
  },
  "language_info": {
   "codemirror_mode": {
    "name": "ipython",
    "version": 3
   },
   "file_extension": ".py",
   "mimetype": "text/x-python",
   "name": "python",
   "nbconvert_exporter": "python",
   "pygments_lexer": "ipython3",
   "version": "3.11.4"
  }
 },
 "nbformat": 4,
 "nbformat_minor": 5
}
