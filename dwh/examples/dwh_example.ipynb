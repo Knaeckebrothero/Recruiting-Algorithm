{
 "cells": [
  {
   "cell_type": "markdown",
   "id": "a88601a0",
   "metadata": {},
   "source": []
  },
  {
   "cell_type": "code",
   "execution_count": null,
   "id": "582a09ee191de892",
   "metadata": {},
   "outputs": [],
   "source": [
    "\"\"\"\n",
    "This codecell contains the functions to establish a connection to the databases.\n",
    "\"\"\"\n",
    "\n",
    "\n",
    "def get_sql_db_engine():\n",
    "    \"\"\"\n",
    "    Function to establish a connection to the database using the environment variables and ssl certificates.\n",
    "\n",
    "    :return: db_engine: Engine to use the database.\n",
    "    \"\"\"\n",
    "    # Import libraries\n",
    "    import os\n",
    "    from dotenv import load_dotenv, find_dotenv\n",
    "    from sqlalchemy import create_engine  # Requires pymysql\n",
    "\n",
    "    # Load environment variables (stuff from .env file)\n",
    "    load_dotenv(find_dotenv())\n",
    "\n",
    "    # Create a connection string for the database using environment variables\n",
    "    db_connection_str = f'mysql+pymysql://{os.getenv('DATABASE_USER')}:{os.getenv('DATABASE_PASSWORD')}@{os.getenv('DATABASE_ADDRESS')}'\n",
    "\n",
    "    # Establish a connection to the database using the connection string and the ssl certificates\n",
    "    db_engine = create_engine(\n",
    "        db_connection_str, \n",
    "        connect_args={\n",
    "            'ssl_ca': '/ssl/CA.pem',\n",
    "            'ssl_cert': '/ssl/CLIENT_CERT.pem',\n",
    "            'ssl_key': '/ssl/CLIENT_KEY.pem'\n",
    "            })\n",
    "\n",
    "    # Return the engine\n",
    "    return db_engine\n",
    "\n",
    "\n",
    "def get_mongo_db_client():\n",
    "    \"\"\"\n",
    "    Function to establish a connection to the MongoDB database using the environment variables.\n",
    "\n",
    "    :return: mongodb: Connection to the MongoDB database.\n",
    "    \"\"\"\n",
    "    # Import libraries\n",
    "    import os\n",
    "    from dotenv import load_dotenv, find_dotenv\n",
    "    from pymongo import MongoClient\n",
    "\n",
    "    # Load environment variables (stuff from .env file)\n",
    "    load_dotenv(find_dotenv())\n",
    "\n",
    "    # Establish a connection to the MongoDB database using the environment variables\n",
    "    mongodb = MongoClient(os.getenv(\"MongoClientURI\"))\n",
    "\n",
    "    # Return the connection\n",
    "    return mongodb"
   ]
  },
  {
   "cell_type": "code",
   "execution_count": null,
   "id": "1bb02740",
   "metadata": {},
   "outputs": [],
   "source": []
  }
 ],
 "metadata": {
  "kernelspec": {
   "display_name": "Python 3",
   "language": "python",
   "name": "python3"
  },
  "language_info": {
   "codemirror_mode": {
    "name": "ipython",
    "version": 2
   },
   "file_extension": ".py",
   "mimetype": "text/x-python",
   "name": "python",
   "nbconvert_exporter": "python",
   "pygments_lexer": "ipython2",
   "version": "2.7.6"
  }
 },
 "nbformat": 4,
 "nbformat_minor": 5
}
