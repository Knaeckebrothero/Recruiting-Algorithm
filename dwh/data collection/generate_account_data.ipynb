{
 "cells": [
  {
   "cell_type": "code",
   "execution_count": null,
   "id": "initial_id",
   "metadata": {
    "collapsed": true
   },
   "outputs": [],
   "source": [
    "import json\n",
    "import os\n",
    "import dotenv\n",
    "from openai import OpenAI\n",
    "\n",
    "\n",
    "# Load the environment variables\n",
    "dotenv.load_dotenv()\n",
    "\n",
    "# Create an instance of the OpenAI class\n",
    "openai_api = OpenAI()\n",
    "\n",
    "# Directory containing all files to process\n",
    "results_directory = os.getenv('TAGS_FOLDER_PATH') + 'personas_json/'\n",
    "\n",
    "# Assemble the prompt\n",
    "messages = [\n",
    "    {\"role\": \"system\", \"content\": system_prompt},\n",
    "    {\"role\": \"user\", \"content\": json.dumps(open(generation_result_path).read())}\n",
    "]\n",
    "\n",
    "# Generate a completion\n",
    "completion = openai_client.chat.completions.create(\n",
    "    # model=\"gpt-4-turbo\",\n",
    "    model=\"gpt-4o\",\n",
    "    response_format={\"type\": \"json_object\"},\n",
    "    messages=messages\n",
    ")\n",
    "  \n",
    "# Get the generated text\n",
    "result_string = completion.choices[0].message.content\n",
    "\n",
    "# Convert the generated text into a dictionary\n",
    "evaluation = json.loads(result_string)\n",
    "    \n",
    "# Save the generated text into a file\n",
    "json.dumps(open(generation_result_path).read())"
   ]
  }
 ],
 "metadata": {
  "kernelspec": {
   "display_name": "Python 3",
   "language": "python",
   "name": "python3"
  },
  "language_info": {
   "codemirror_mode": {
    "name": "ipython",
    "version": 2
   },
   "file_extension": ".py",
   "mimetype": "text/x-python",
   "name": "python",
   "nbconvert_exporter": "python",
   "pygments_lexer": "ipython2",
   "version": "2.7.6"
  }
 },
 "nbformat": 4,
 "nbformat_minor": 5
}
